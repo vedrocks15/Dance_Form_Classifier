{
  "nbformat": 4,
  "nbformat_minor": 0,
  "metadata": {
    "colab": {
      "name": "DanceForms.ipynb",
      "provenance": [],
      "collapsed_sections": [],
      "authorship_tag": "ABX9TyOPsJyQt+YTbJbtim2EXAzR",
      "include_colab_link": true
    },
    "kernelspec": {
      "name": "python3",
      "display_name": "Python 3"
    },
    "accelerator": "GPU"
  },
  "cells": [
    {
      "cell_type": "markdown",
      "metadata": {
        "id": "view-in-github",
        "colab_type": "text"
      },
      "source": [
        "<a href=\"https://colab.research.google.com/github/vedrocks15/Dance_Form_Classifier/blob/master/DanceForms.ipynb\" target=\"_parent\"><img src=\"https://colab.research.google.com/assets/colab-badge.svg\" alt=\"Open In Colab\"/></a>"
      ]
    },
    {
      "cell_type": "markdown",
      "metadata": {
        "id": "DB7-61AviTbI",
        "colab_type": "text"
      },
      "source": [
        "# Uploading Zipped ( Both Train & Test )"
      ]
    },
    {
      "cell_type": "code",
      "metadata": {
        "id": "OhqI1Hu_bJp1",
        "colab_type": "code",
        "colab": {
          "base_uri": "https://localhost:8080/",
          "height": 35
        },
        "outputId": "6676d971-f498-4bfc-d56b-0bea359f3508"
      },
      "source": [
        "! ls"
      ],
      "execution_count": null,
      "outputs": [
        {
          "output_type": "stream",
          "text": [
            "sample_data\n"
          ],
          "name": "stdout"
        }
      ]
    },
    {
      "cell_type": "code",
      "metadata": {
        "id": "1RhLrTiNemdP",
        "colab_type": "code",
        "colab": {
          "resources": {
            "http://localhost:8080/nbextensions/google.colab/files.js": {
              "data": "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",
              "ok": true,
              "headers": [
                [
                  "content-type",
                  "application/javascript"
                ]
              ],
              "status": 200,
              "status_text": ""
            }
          },
          "base_uri": "https://localhost:8080/",
          "height": 73
        },
        "outputId": "3e78707f-23e7-4c6c-dd37-529cbfe228be"
      },
      "source": [
        "from google.colab import files\n",
        "files.upload()"
      ],
      "execution_count": null,
      "outputs": [
        {
          "output_type": "display_data",
          "data": {
            "text/html": [
              "\n",
              "     <input type=\"file\" id=\"files-b2873d0d-190f-43c5-9f28-5081684a50b3\" name=\"files[]\" multiple disabled\n",
              "        style=\"border:none\" />\n",
              "     <output id=\"result-b2873d0d-190f-43c5-9f28-5081684a50b3\">\n",
              "      Upload widget is only available when the cell has been executed in the\n",
              "      current browser session. Please rerun this cell to enable.\n",
              "      </output>\n",
              "      <script src=\"/nbextensions/google.colab/files.js\"></script> "
            ],
            "text/plain": [
              "<IPython.core.display.HTML object>"
            ]
          },
          "metadata": {
            "tags": []
          }
        },
        {
          "output_type": "stream",
          "text": [
            "Saving 0664343c9a8f11ea.zip to 0664343c9a8f11ea.zip\n"
          ],
          "name": "stdout"
        }
      ]
    },
    {
      "cell_type": "code",
      "metadata": {
        "id": "I7ITImW9inHO",
        "colab_type": "code",
        "colab": {
          "base_uri": "https://localhost:8080/",
          "height": 1000
        },
        "outputId": "811422e9-278b-4536-d82e-41146f32698f"
      },
      "source": [
        "! unzip '0664343c9a8f11ea.zip'"
      ],
      "execution_count": null,
      "outputs": [
        {
          "output_type": "stream",
          "text": [
            "Archive:  0664343c9a8f11ea.zip\n",
            "   creating: dataset/\n",
            "   creating: dataset/test/\n",
            "  inflating: dataset/test/508.jpg    \n",
            "  inflating: dataset/test/246.jpg    \n",
            "  inflating: dataset/test/473.jpg    \n",
            "  inflating: dataset/test/485.jpg    \n",
            "  inflating: dataset/test/128.jpg    \n",
            "  inflating: dataset/test/410.jpg    \n",
            "  inflating: dataset/test/465.jpg    \n",
            "  inflating: dataset/test/196.jpg    \n",
            "  inflating: dataset/test/340.jpg    \n",
            "  inflating: dataset/test/467.jpg    \n",
            "  inflating: dataset/test/306.jpg    \n",
            "  inflating: dataset/test/171.jpg    \n",
            "  inflating: dataset/test/323.jpg    \n",
            "  inflating: dataset/test/332.jpg    \n",
            "  inflating: dataset/test/330.jpg    \n",
            "  inflating: dataset/test/170.jpg    \n",
            "  inflating: dataset/test/479.jpg    \n",
            "  inflating: dataset/test/9.jpg      \n",
            "  inflating: dataset/test/283.jpg    \n",
            "  inflating: dataset/test/114.jpg    \n",
            "  inflating: dataset/test/507.jpg    \n",
            "  inflating: dataset/test/183.jpg    \n",
            "  inflating: dataset/test/200.jpg    \n",
            "  inflating: dataset/test/457.jpg    \n",
            "  inflating: dataset/test/264.jpg    \n",
            "  inflating: dataset/test/194.jpg    \n",
            "  inflating: dataset/test/518.jpg    \n",
            "  inflating: dataset/test/175.jpg    \n",
            "  inflating: dataset/test/64.jpg     \n",
            "  inflating: dataset/test/152.jpg    \n",
            "  inflating: dataset/test/270.jpg    \n",
            "  inflating: dataset/test/125.jpg    \n",
            "  inflating: dataset/test/38.jpg     \n",
            "  inflating: dataset/test/440.jpg    \n",
            "  inflating: dataset/test/302.jpg    \n",
            "  inflating: dataset/test/394.jpg    \n",
            "  inflating: dataset/test/448.jpg    \n",
            "  inflating: dataset/test/463.jpg    \n",
            "  inflating: dataset/test/20.jpg     \n",
            "  inflating: dataset/test/301.jpg    \n",
            "  inflating: dataset/test/28.jpg     \n",
            "  inflating: dataset/test/61.jpg     \n",
            "  inflating: dataset/test/398.jpg    \n",
            "  inflating: dataset/test/349.jpg    \n",
            "  inflating: dataset/test/271.jpg    \n",
            "  inflating: dataset/test/286.jpg    \n",
            "  inflating: dataset/test/431.jpg    \n",
            "  inflating: dataset/test/316.jpg    \n",
            "  inflating: dataset/test/224.jpg    \n",
            "  inflating: dataset/test/411.jpg    \n",
            "  inflating: dataset/test/278.jpg    \n",
            "  inflating: dataset/test/456.jpg    \n",
            "  inflating: dataset/test/45.jpg     \n",
            "  inflating: dataset/test/324.jpg    \n",
            "  inflating: dataset/test/6.jpg      \n",
            "  inflating: dataset/test/59.jpg     \n",
            "  inflating: dataset/test/86.jpg     \n",
            "  inflating: dataset/test/470.jpg    \n",
            "  inflating: dataset/test/374.jpg    \n",
            "  inflating: dataset/test/132.jpg    \n",
            "  inflating: dataset/test/216.jpg    \n",
            "  inflating: dataset/test/95.jpg     \n",
            "  inflating: dataset/test/17.jpg     \n",
            "  inflating: dataset/test/162.jpg    \n",
            "  inflating: dataset/test/346.jpg    \n",
            "  inflating: dataset/test/439.jpg    \n",
            "  inflating: dataset/test/232.jpg    \n",
            "  inflating: dataset/test/150.jpg    \n",
            "  inflating: dataset/test/401.jpg    \n",
            "  inflating: dataset/test/145.jpg    \n",
            "  inflating: dataset/test/23.jpg     \n",
            "  inflating: dataset/test/514.jpg    \n",
            "  inflating: dataset/test/193.jpg    \n",
            "  inflating: dataset/test/416.jpg    \n",
            "  inflating: dataset/test/447.jpg    \n",
            "  inflating: dataset/test/220.jpg    \n",
            "  inflating: dataset/test/505.jpg    \n",
            "  inflating: dataset/test/147.jpg    \n",
            "  inflating: dataset/test/210.jpg    \n",
            "  inflating: dataset/test/40.jpg     \n",
            "  inflating: dataset/test/284.jpg    \n",
            "  inflating: dataset/test/55.jpg     \n",
            "  inflating: dataset/test/378.jpg    \n",
            "  inflating: dataset/test/520.jpg    \n",
            "  inflating: dataset/test/484.jpg    \n",
            "  inflating: dataset/test/112.jpg    \n",
            "  inflating: dataset/test/360.jpg    \n",
            "  inflating: dataset/test/317.jpg    \n",
            "  inflating: dataset/test/71.jpg     \n",
            "  inflating: dataset/test/202.jpg    \n",
            "  inflating: dataset/test/92.jpg     \n",
            "  inflating: dataset/test/11.jpg     \n",
            "  inflating: dataset/test/67.jpg     \n",
            "  inflating: dataset/test/138.jpg    \n",
            "  inflating: dataset/test/506.jpg    \n",
            "  inflating: dataset/test/146.jpg    \n",
            "  inflating: dataset/test/318.jpg    \n",
            "  inflating: dataset/test/198.jpg    \n",
            "  inflating: dataset/test/375.jpg    \n",
            "  inflating: dataset/test/41.jpg     \n",
            "  inflating: dataset/test/421.jpg    \n",
            "  inflating: dataset/test/129.jpg    \n",
            "  inflating: dataset/test/14.jpg     \n",
            "  inflating: dataset/test/460.jpg    \n",
            "  inflating: dataset/test/34.jpg     \n",
            "  inflating: dataset/test/380.jpg    \n",
            "  inflating: dataset/test/238.jpg    \n",
            "  inflating: dataset/test/392.jpg    \n",
            "  inflating: dataset/test/80.jpg     \n",
            "  inflating: dataset/test/517.jpg    \n",
            "  inflating: dataset/test/13.jpg     \n",
            "  inflating: dataset/test/189.jpg    \n",
            "  inflating: dataset/test/390.jpg    \n",
            "  inflating: dataset/test/487.jpg    \n",
            "  inflating: dataset/test/438.jpg    \n",
            "  inflating: dataset/test/482.jpg    \n",
            "  inflating: dataset/test/206.jpg    \n",
            "  inflating: dataset/test/217.jpg    \n",
            "  inflating: dataset/test/285.jpg    \n",
            "  inflating: dataset/test/385.jpg    \n",
            "  inflating: dataset/test/495.jpg    \n",
            "  inflating: dataset/test/269.jpg    \n",
            "  inflating: dataset/test/429.jpg    \n",
            "  inflating: dataset/test/291.jpg    \n",
            "  inflating: dataset/test/461.jpg    \n",
            "  inflating: dataset/test/256.jpg    \n",
            "  inflating: dataset/test/48.jpg     \n",
            "  inflating: dataset/test/290.jpg    \n",
            "  inflating: dataset/test/437.jpg    \n",
            "  inflating: dataset/test/498.jpg    \n",
            "  inflating: dataset/test/173.jpg    \n",
            "  inflating: dataset/test/280.jpg    \n",
            "  inflating: dataset/test/119.jpg    \n",
            "  inflating: dataset/test/363.jpg    \n",
            "  inflating: dataset/test/97.jpg     \n",
            "  inflating: dataset/test/414.jpg    \n",
            "  inflating: dataset/test/386.jpg    \n",
            "  inflating: dataset/test/424.jpg    \n",
            "  inflating: dataset/test/157.jpg    \n",
            "  inflating: dataset/test/33.jpg     \n",
            "  inflating: dataset/test/354.jpg    \n",
            "  inflating: dataset/test/57.jpg     \n",
            "  inflating: dataset/test/108.jpg    \n",
            "  inflating: dataset/test/239.jpg    \n",
            "  inflating: dataset/test/441.jpg    \n",
            "  inflating: dataset/test/215.jpg    \n",
            "  inflating: dataset/test/373.jpg    \n",
            "  inflating: dataset/test/292.jpg    \n",
            "  inflating: dataset/test/110.jpg    \n",
            "  inflating: dataset/test/510.jpg    \n",
            "  inflating: dataset/test/275.jpg    \n",
            "  inflating: dataset/test/366.jpg    \n",
            "  inflating: dataset/test/226.jpg    \n",
            "  inflating: dataset/test/35.jpg     \n",
            "  inflating: dataset/test/458.jpg    \n",
            "  inflating: dataset/test/358.jpg    \n",
            "   creating: dataset/train/\n",
            "  inflating: dataset/train/96.jpg    \n",
            "  inflating: dataset/train/163.jpg   \n",
            "  inflating: dataset/train/450.jpg   \n",
            "  inflating: dataset/train/219.jpg   \n",
            "  inflating: dataset/train/455.jpg   \n",
            "  inflating: dataset/train/46.jpg    \n",
            "  inflating: dataset/train/326.jpg   \n",
            "  inflating: dataset/train/408.jpg   \n",
            "  inflating: dataset/train/365.jpg   \n",
            "  inflating: dataset/train/422.jpg   \n",
            "  inflating: dataset/train/397.jpg   \n",
            "  inflating: dataset/train/400.jpg   \n",
            "  inflating: dataset/train/32.jpg    \n",
            "  inflating: dataset/train/350.jpg   \n",
            "  inflating: dataset/train/234.jpg   \n",
            "  inflating: dataset/train/492.jpg   \n",
            "  inflating: dataset/train/333.jpg   \n",
            "  inflating: dataset/train/376.jpg   \n",
            "  inflating: dataset/train/103.jpg   \n",
            "  inflating: dataset/train/39.jpg    \n",
            "  inflating: dataset/train/87.jpg    \n",
            "  inflating: dataset/train/155.jpg   \n",
            "  inflating: dataset/train/388.jpg   \n",
            "  inflating: dataset/train/384.jpg   \n",
            "  inflating: dataset/train/248.jpg   \n",
            "  inflating: dataset/train/494.jpg   \n",
            "  inflating: dataset/train/47.jpg    \n",
            "  inflating: dataset/train/488.jpg   \n",
            "  inflating: dataset/train/462.jpg   \n",
            "  inflating: dataset/train/347.jpg   \n",
            "  inflating: dataset/train/242.jpg   \n",
            "  inflating: dataset/train/16.jpg    \n",
            "  inflating: dataset/train/178.jpg   \n",
            "  inflating: dataset/train/348.jpg   \n",
            "  inflating: dataset/train/164.jpg   \n",
            "  inflating: dataset/train/2.jpg     \n",
            "  inflating: dataset/train/141.jpg   \n",
            "  inflating: dataset/train/187.jpg   \n",
            "  inflating: dataset/train/464.jpg   \n",
            "  inflating: dataset/train/472.jpg   \n",
            "  inflating: dataset/train/489.jpg   \n",
            "  inflating: dataset/train/387.jpg   \n",
            "  inflating: dataset/train/109.jpg   \n",
            "  inflating: dataset/train/255.jpg   \n",
            "  inflating: dataset/train/274.jpg   \n",
            "  inflating: dataset/train/509.jpg   \n",
            "  inflating: dataset/train/19.jpg    \n",
            "  inflating: dataset/train/102.jpg   \n",
            "  inflating: dataset/train/24.jpg    \n",
            "  inflating: dataset/train/294.jpg   \n",
            "  inflating: dataset/train/501.jpg   \n",
            "  inflating: dataset/train/335.jpg   \n",
            "  inflating: dataset/train/321.jpg   \n",
            "  inflating: dataset/train/480.jpg   \n",
            "  inflating: dataset/train/393.jpg   \n",
            "  inflating: dataset/train/344.jpg   \n",
            "  inflating: dataset/train/259.jpg   \n",
            "  inflating: dataset/train/76.jpg    \n",
            "  inflating: dataset/train/343.jpg   \n",
            "  inflating: dataset/train/4.jpg     \n",
            "  inflating: dataset/train/486.jpg   \n",
            "  inflating: dataset/train/361.jpg   \n",
            "  inflating: dataset/train/90.jpg    \n",
            "  inflating: dataset/train/231.jpg   \n",
            "  inflating: dataset/train/331.jpg   \n",
            "  inflating: dataset/train/243.jpg   \n",
            "  inflating: dataset/train/104.jpg   \n",
            "  inflating: dataset/train/113.jpg   \n",
            "  inflating: dataset/train/21.jpg    \n",
            "  inflating: dataset/train/15.jpg    \n",
            "  inflating: dataset/train/370.jpg   \n",
            "  inflating: dataset/train/124.jpg   \n",
            "  inflating: dataset/train/241.jpg   \n",
            "  inflating: dataset/train/56.jpg    \n",
            "  inflating: dataset/train/296.jpg   \n",
            "  inflating: dataset/train/81.jpg    \n",
            "  inflating: dataset/train/29.jpg    \n",
            "  inflating: dataset/train/423.jpg   \n",
            "  inflating: dataset/train/445.jpg   \n",
            "  inflating: dataset/train/406.jpg   \n",
            "  inflating: dataset/train/116.jpg   \n",
            "  inflating: dataset/train/407.jpg   \n",
            "  inflating: dataset/train/118.jpg   \n",
            "  inflating: dataset/train/367.jpg   \n",
            "  inflating: dataset/train/30.jpg    \n",
            "  inflating: dataset/train/395.jpg   \n",
            "  inflating: dataset/train/265.jpg   \n",
            "  inflating: dataset/train/73.jpg    \n",
            "  inflating: dataset/train/277.jpg   \n",
            "  inflating: dataset/train/122.jpg   \n",
            "  inflating: dataset/train/516.jpg   \n",
            "  inflating: dataset/train/377.jpg   \n",
            "  inflating: dataset/train/513.jpg   \n",
            "  inflating: dataset/train/405.jpg   \n",
            "  inflating: dataset/train/172.jpg   \n",
            "  inflating: dataset/train/299.jpg   \n",
            "  inflating: dataset/train/149.jpg   \n",
            "  inflating: dataset/train/165.jpg   \n",
            "  inflating: dataset/train/371.jpg   \n",
            "  inflating: dataset/train/18.jpg    \n",
            "  inflating: dataset/train/213.jpg   \n",
            "  inflating: dataset/train/303.jpg   \n",
            "  inflating: dataset/train/353.jpg   \n",
            "  inflating: dataset/train/135.jpg   \n",
            "  inflating: dataset/train/481.jpg   \n",
            "  inflating: dataset/train/3.jpg     \n",
            "  inflating: dataset/train/329.jpg   \n",
            "  inflating: dataset/train/345.jpg   \n",
            "  inflating: dataset/train/443.jpg   \n",
            "  inflating: dataset/train/504.jpg   \n",
            "  inflating: dataset/train/12.jpg    \n",
            "  inflating: dataset/train/74.jpg    \n",
            "  inflating: dataset/train/185.jpg   \n",
            "  inflating: dataset/train/161.jpg   \n",
            "  inflating: dataset/train/309.jpg   \n",
            "  inflating: dataset/train/205.jpg   \n",
            "  inflating: dataset/train/379.jpg   \n",
            "  inflating: dataset/train/82.jpg    \n",
            "  inflating: dataset/train/276.jpg   \n",
            "  inflating: dataset/train/154.jpg   \n",
            "  inflating: dataset/train/254.jpg   \n",
            "  inflating: dataset/train/26.jpg    \n",
            "  inflating: dataset/train/181.jpg   \n",
            "  inflating: dataset/train/425.jpg   \n",
            "  inflating: dataset/train/131.jpg   \n",
            "  inflating: dataset/train/272.jpg   \n",
            "  inflating: dataset/train/117.jpg   \n",
            "  inflating: dataset/train/252.jpg   \n",
            "  inflating: dataset/train/180.jpg   \n",
            "  inflating: dataset/train/142.jpg   \n",
            "  inflating: dataset/train/261.jpg   \n",
            "  inflating: dataset/train/136.jpg   \n",
            "  inflating: dataset/train/85.jpg    \n",
            "  inflating: dataset/train/88.jpg    \n",
            "  inflating: dataset/train/372.jpg   \n",
            "  inflating: dataset/train/279.jpg   \n",
            "  inflating: dataset/train/313.jpg   \n",
            "  inflating: dataset/train/159.jpg   \n",
            "  inflating: dataset/train/483.jpg   \n",
            "  inflating: dataset/train/262.jpg   \n",
            "  inflating: dataset/train/519.jpg   \n",
            "  inflating: dataset/train/308.jpg   \n",
            "  inflating: dataset/train/211.jpg   \n",
            "  inflating: dataset/train/497.jpg   \n",
            "  inflating: dataset/train/325.jpg   \n",
            "  inflating: dataset/train/169.jpg   \n",
            "  inflating: dataset/train/244.jpg   \n",
            "  inflating: dataset/train/474.jpg   \n",
            "  inflating: dataset/train/322.jpg   \n",
            "  inflating: dataset/train/94.jpg    \n",
            "  inflating: dataset/train/314.jpg   \n",
            "  inflating: dataset/train/356.jpg   \n",
            "  inflating: dataset/train/22.jpg    \n",
            "  inflating: dataset/train/512.jpg   \n",
            "  inflating: dataset/train/182.jpg   \n",
            "  inflating: dataset/train/156.jpg   \n",
            "  inflating: dataset/train/289.jpg   \n",
            "  inflating: dataset/train/25.jpg    \n",
            "  inflating: dataset/train/436.jpg   \n",
            "  inflating: dataset/train/93.jpg    \n",
            "  inflating: dataset/train/336.jpg   \n",
            "  inflating: dataset/train/225.jpg   \n",
            "  inflating: dataset/train/298.jpg   \n",
            "  inflating: dataset/train/214.jpg   \n",
            "  inflating: dataset/train/27.jpg    \n",
            "  inflating: dataset/train/342.jpg   \n",
            "  inflating: dataset/train/273.jpg   \n",
            "  inflating: dataset/train/133.jpg   \n",
            "  inflating: dataset/train/168.jpg   \n",
            "  inflating: dataset/train/409.jpg   \n",
            "  inflating: dataset/train/459.jpg   \n",
            "  inflating: dataset/train/31.jpg    \n",
            "  inflating: dataset/train/468.jpg   \n",
            "  inflating: dataset/train/434.jpg   \n",
            "  inflating: dataset/train/312.jpg   \n",
            "  inflating: dataset/train/383.jpg   \n",
            "  inflating: dataset/train/476.jpg   \n",
            "  inflating: dataset/train/334.jpg   \n",
            "  inflating: dataset/train/151.jpg   \n",
            "  inflating: dataset/train/166.jpg   \n",
            "  inflating: dataset/train/227.jpg   \n",
            "  inflating: dataset/train/471.jpg   \n",
            "  inflating: dataset/train/267.jpg   \n",
            "  inflating: dataset/train/100.jpg   \n",
            "  inflating: dataset/train/446.jpg   \n",
            "  inflating: dataset/train/208.jpg   \n",
            "  inflating: dataset/train/293.jpg   \n",
            "  inflating: dataset/train/297.jpg   \n",
            "  inflating: dataset/train/412.jpg   \n",
            "  inflating: dataset/train/58.jpg    \n",
            "  inflating: dataset/train/288.jpg   \n",
            "  inflating: dataset/train/105.jpg   \n",
            "  inflating: dataset/train/477.jpg   \n",
            "  inflating: dataset/train/502.jpg   \n",
            "  inflating: dataset/train/418.jpg   \n",
            "  inflating: dataset/train/233.jpg   \n",
            "  inflating: dataset/train/134.jpg   \n",
            "  inflating: dataset/train/197.jpg   \n",
            "  inflating: dataset/train/245.jpg   \n",
            "  inflating: dataset/train/176.jpg   \n",
            "  inflating: dataset/train/203.jpg   \n",
            "  inflating: dataset/train/247.jpg   \n",
            "  inflating: dataset/train/493.jpg   \n",
            "  inflating: dataset/train/68.jpg    \n",
            "  inflating: dataset/train/442.jpg   \n",
            "  inflating: dataset/train/115.jpg   \n",
            "  inflating: dataset/train/357.jpg   \n",
            "  inflating: dataset/train/389.jpg   \n",
            "  inflating: dataset/train/218.jpg   \n",
            "  inflating: dataset/train/263.jpg   \n",
            "  inflating: dataset/train/184.jpg   \n",
            "  inflating: dataset/train/315.jpg   \n",
            "  inflating: dataset/train/295.jpg   \n",
            "  inflating: dataset/train/42.jpg    \n",
            "  inflating: dataset/train/427.jpg   \n",
            "  inflating: dataset/train/287.jpg   \n",
            "  inflating: dataset/train/430.jpg   \n",
            "  inflating: dataset/train/359.jpg   \n",
            "  inflating: dataset/train/249.jpg   \n",
            "  inflating: dataset/train/54.jpg    \n",
            "  inflating: dataset/train/305.jpg   \n",
            "  inflating: dataset/train/319.jpg   \n",
            "  inflating: dataset/train/496.jpg   \n",
            "  inflating: dataset/train/60.jpg    \n",
            "  inflating: dataset/train/37.jpg    \n",
            "  inflating: dataset/train/192.jpg   \n",
            "  inflating: dataset/train/304.jpg   \n",
            "  inflating: dataset/train/258.jpg   \n",
            "  inflating: dataset/train/364.jpg   \n",
            "  inflating: dataset/train/49.jpg    \n",
            "  inflating: dataset/train/144.jpg   \n",
            "  inflating: dataset/train/7.jpg     \n",
            "  inflating: dataset/train/98.jpg    \n",
            "  inflating: dataset/train/223.jpg   \n",
            "  inflating: dataset/train/320.jpg   \n",
            "  inflating: dataset/train/70.jpg    \n",
            "  inflating: dataset/train/426.jpg   \n",
            "  inflating: dataset/train/84.jpg    \n",
            "  inflating: dataset/train/44.jpg    \n",
            "  inflating: dataset/train/177.jpg   \n",
            "  inflating: dataset/train/50.jpg    \n",
            "  inflating: dataset/train/417.jpg   \n",
            "  inflating: dataset/train/191.jpg   \n",
            "  inflating: dataset/train/221.jpg   \n",
            "  inflating: dataset/train/500.jpg   \n",
            "  inflating: dataset/train/428.jpg   \n",
            "  inflating: dataset/train/137.jpg   \n",
            "  inflating: dataset/train/195.jpg   \n",
            "  inflating: dataset/train/413.jpg   \n",
            "  inflating: dataset/train/228.jpg   \n",
            "  inflating: dataset/train/478.jpg   \n",
            "  inflating: dataset/train/123.jpg   \n",
            "  inflating: dataset/train/369.jpg   \n",
            "  inflating: dataset/train/328.jpg   \n",
            "  inflating: dataset/train/1.jpg     \n",
            "  inflating: dataset/train/126.jpg   \n",
            "  inflating: dataset/train/503.jpg   \n",
            "  inflating: dataset/train/352.jpg   \n",
            "  inflating: dataset/train/120.jpg   \n",
            "  inflating: dataset/train/452.jpg   \n",
            "  inflating: dataset/train/339.jpg   \n",
            "  inflating: dataset/train/266.jpg   \n",
            "  inflating: dataset/train/201.jpg   \n",
            "  inflating: dataset/train/229.jpg   \n",
            "  inflating: dataset/train/402.jpg   \n",
            "  inflating: dataset/train/381.jpg   \n",
            "  inflating: dataset/train/449.jpg   \n",
            "  inflating: dataset/train/107.jpg   \n",
            "  inflating: dataset/train/444.jpg   \n",
            "  inflating: dataset/train/327.jpg   \n",
            "  inflating: dataset/train/8.jpg     \n",
            "  inflating: dataset/train/451.jpg   \n",
            "  inflating: dataset/train/77.jpg    \n",
            "  inflating: dataset/train/148.jpg   \n",
            "  inflating: dataset/train/399.jpg   \n",
            "  inflating: dataset/train/130.jpg   \n",
            "  inflating: dataset/train/362.jpg   \n",
            "  inflating: dataset/train/310.jpg   \n",
            "  inflating: dataset/train/79.jpg    \n",
            "  inflating: dataset/train/127.jpg   \n",
            "  inflating: dataset/train/237.jpg   \n",
            "  inflating: dataset/train/257.jpg   \n",
            "  inflating: dataset/train/160.jpg   \n",
            "  inflating: dataset/train/52.jpg    \n",
            "  inflating: dataset/train/190.jpg   \n",
            "  inflating: dataset/train/382.jpg   \n",
            "  inflating: dataset/train/143.jpg   \n",
            "  inflating: dataset/train/199.jpg   \n",
            "  inflating: dataset/train/282.jpg   \n",
            "  inflating: dataset/train/207.jpg   \n",
            "  inflating: dataset/train/403.jpg   \n",
            "  inflating: dataset/train/337.jpg   \n",
            "  inflating: dataset/train/355.jpg   \n",
            "  inflating: dataset/train/251.jpg   \n",
            "  inflating: dataset/train/188.jpg   \n",
            "  inflating: dataset/train/338.jpg   \n",
            "  inflating: dataset/train/341.jpg   \n",
            "  inflating: dataset/train/433.jpg   \n",
            "  inflating: dataset/train/69.jpg    \n",
            "  inflating: dataset/train/236.jpg   \n",
            "  inflating: dataset/train/106.jpg   \n",
            "  inflating: dataset/train/99.jpg    \n",
            "  inflating: dataset/train/179.jpg   \n",
            "  inflating: dataset/train/204.jpg   \n",
            "  inflating: dataset/train/300.jpg   \n",
            "  inflating: dataset/train/432.jpg   \n",
            "  inflating: dataset/train/490.jpg   \n",
            "  inflating: dataset/train/368.jpg   \n",
            "  inflating: dataset/train/153.jpg   \n",
            "  inflating: dataset/train/174.jpg   \n",
            "  inflating: dataset/train/51.jpg    \n",
            "  inflating: dataset/train/62.jpg    \n",
            "  inflating: dataset/train/420.jpg   \n",
            "  inflating: dataset/train/75.jpg    \n",
            "  inflating: dataset/train/230.jpg   \n",
            "  inflating: dataset/train/307.jpg   \n",
            "  inflating: dataset/train/212.jpg   \n",
            "  inflating: dataset/train/209.jpg   \n",
            "  inflating: dataset/train/415.jpg   \n",
            "  inflating: dataset/train/491.jpg   \n",
            "  inflating: dataset/train/453.jpg   \n",
            "  inflating: dataset/train/351.jpg   \n",
            "  inflating: dataset/train/111.jpg   \n",
            "  inflating: dataset/train/391.jpg   \n",
            "  inflating: dataset/train/515.jpg   \n",
            "  inflating: dataset/train/65.jpg    \n",
            "  inflating: dataset/train/240.jpg   \n",
            "  inflating: dataset/train/91.jpg    \n",
            "  inflating: dataset/train/222.jpg   \n",
            "  inflating: dataset/train/53.jpg    \n",
            "  inflating: dataset/train/158.jpg   \n",
            "  inflating: dataset/train/475.jpg   \n",
            "  inflating: dataset/train/121.jpg   \n",
            "  inflating: dataset/train/396.jpg   \n",
            "  inflating: dataset/train/63.jpg    \n",
            "  inflating: dataset/train/268.jpg   \n",
            "  inflating: dataset/train/78.jpg    \n",
            "  inflating: dataset/train/167.jpg   \n",
            "  inflating: dataset/train/250.jpg   \n",
            "  inflating: dataset/train/454.jpg   \n",
            "  inflating: dataset/train/186.jpg   \n",
            "  inflating: dataset/train/499.jpg   \n",
            "  inflating: dataset/train/101.jpg   \n",
            "  inflating: dataset/train/435.jpg   \n",
            "  inflating: dataset/train/469.jpg   \n",
            "  inflating: dataset/train/139.jpg   \n",
            "  inflating: dataset/train/83.jpg    \n",
            "  inflating: dataset/train/43.jpg    \n",
            "  inflating: dataset/train/281.jpg   \n",
            "  inflating: dataset/train/36.jpg    \n",
            "  inflating: dataset/train/419.jpg   \n",
            "  inflating: dataset/train/66.jpg    \n",
            "  inflating: dataset/train/260.jpg   \n",
            "  inflating: dataset/train/466.jpg   \n",
            "  inflating: dataset/train/140.jpg   \n",
            "  inflating: dataset/train/5.jpg     \n",
            "  inflating: dataset/train/10.jpg    \n",
            "  inflating: dataset/train/235.jpg   \n",
            "  inflating: dataset/train/511.jpg   \n",
            "  inflating: dataset/train/72.jpg    \n",
            "  inflating: dataset/train/253.jpg   \n",
            "  inflating: dataset/train/404.jpg   \n",
            "  inflating: dataset/train/89.jpg    \n",
            "  inflating: dataset/train/311.jpg   \n",
            "  inflating: dataset/test.csv        \n",
            "  inflating: dataset/train.csv       \n"
          ],
          "name": "stdout"
        }
      ]
    },
    {
      "cell_type": "markdown",
      "metadata": {
        "id": "4Z8G28keW2y2",
        "colab_type": "text"
      },
      "source": [
        "# Data labelwise division for ImageGenerator"
      ]
    },
    {
      "cell_type": "code",
      "metadata": {
        "id": "0VXEjCtyjP3B",
        "colab_type": "code",
        "colab": {
          "base_uri": "https://localhost:8080/",
          "height": 54
        },
        "outputId": "c2bffd72-a5f1-410e-a2d9-0683b4c48e80"
      },
      "source": [
        "import pandas as pd\n",
        "import os,shutil\n",
        "df_train = pd.read_csv(\"dataset/train.csv\")\n",
        "df_test  = pd.read_csv(\"dataset/test.csv\")\n",
        "print(\"Train set :\",len(df_train))\n",
        "print(\"Test  set :\",len(df_test))\n",
        "new_train_path  = \"dataset/Train/\"\n",
        "new_train_image = \"dataset/train/\""
      ],
      "execution_count": null,
      "outputs": [
        {
          "output_type": "stream",
          "text": [
            "Train set : 364\n",
            "Test  set : 156\n"
          ],
          "name": "stdout"
        }
      ]
    },
    {
      "cell_type": "markdown",
      "metadata": {
        "id": "0BIs0eYuXNfp",
        "colab_type": "text"
      },
      "source": [
        "# Sanity Check \n",
        "Done in order to ensure that each image in train path has a label"
      ]
    },
    {
      "cell_type": "code",
      "metadata": {
        "id": "slR8Y-BXXRHz",
        "colab_type": "code",
        "colab": {
          "base_uri": "https://localhost:8080/",
          "height": 35
        },
        "outputId": "664a31a2-a6f2-44a6-8ec4-c6146b7b10f1"
      },
      "source": [
        "! ls dataset/train/ | wc -l"
      ],
      "execution_count": null,
      "outputs": [
        {
          "output_type": "stream",
          "text": [
            "364\n"
          ],
          "name": "stdout"
        }
      ]
    },
    {
      "cell_type": "code",
      "metadata": {
        "id": "615k-DcPlRv8",
        "colab_type": "code",
        "colab": {
          "base_uri": "https://localhost:8080/",
          "height": 35
        },
        "outputId": "71f74b59-e39e-47a8-d2b6-14e10d539aa9"
      },
      "source": [
        "! ls dataset/test | wc -l"
      ],
      "execution_count": null,
      "outputs": [
        {
          "output_type": "stream",
          "text": [
            "156\n"
          ],
          "name": "stdout"
        }
      ]
    },
    {
      "cell_type": "code",
      "metadata": {
        "id": "85Ea9kxxalmu",
        "colab_type": "code",
        "colab": {
          "base_uri": "https://localhost:8080/",
          "height": 35
        },
        "outputId": "88cc9d98-7225-4f72-8aa3-2276a73ce710"
      },
      "source": [
        "! mkdir dataset/Train"
      ],
      "execution_count": null,
      "outputs": [
        {
          "output_type": "stream",
          "text": [
            "mkdir: cannot create directory ‘dataset/Train’: File exists\n"
          ],
          "name": "stdout"
        }
      ]
    },
    {
      "cell_type": "code",
      "metadata": {
        "id": "Q3hQqHWfjf3W",
        "colab_type": "code",
        "colab": {}
      },
      "source": [
        "# Storing train half based on the labels provided by the pandas file & directory name is label name\n",
        "for _,r in df_train.groupby(df_train[\"target\"]):\n",
        "    tmp = new_train_path\n",
        "\n",
        "    style = list(set(r[\"target\"]))\n",
        "    img   = list(r[\"Image\"])\n",
        "\n",
        "    tmp+=style[0]\n",
        "    if os.path.exists(tmp):\n",
        "        shutil.rmtree(tmp)\n",
        "    os.mkdir(tmp)\n",
        "\n",
        "    # copying all files\n",
        "    for fname in img:\n",
        "        src = os.path.join(new_train_image,fname)\n",
        "        des = os.path.join(tmp,fname)\n",
        "        shutil.copyfile(src,des)"
      ],
      "execution_count": null,
      "outputs": []
    },
    {
      "cell_type": "code",
      "metadata": {
        "id": "ByfnUwgvasd1",
        "colab_type": "code",
        "colab": {
          "base_uri": "https://localhost:8080/",
          "height": 54
        },
        "outputId": "e39a8a95-4ea7-4213-80d7-74d525a3bb91"
      },
      "source": [
        "! ls dataset/Train"
      ],
      "execution_count": null,
      "outputs": [
        {
          "output_type": "stream",
          "text": [
            "bharatanatyam  kathakali  manipuri\todissi\n",
            "kathak\t       kuchipudi  mohiniyattam\tsattriya\n"
          ],
          "name": "stdout"
        }
      ]
    },
    {
      "cell_type": "code",
      "metadata": {
        "id": "18s5Gxikk5os",
        "colab_type": "code",
        "colab": {
          "base_uri": "https://localhost:8080/",
          "height": 54
        },
        "outputId": "cf765384-edef-4633-9a28-59ef3c546d7a"
      },
      "source": [
        "import tensorflow as tf\n",
        "# used for image visualization\n",
        "import matplotlib.pyplot as plt\n",
        "#used for creating the train test and augmenting the data\n",
        "from keras.preprocessing.image import ImageDataGenerator\n",
        "#efficient for model deployment on mobile\n",
        "from tensorflow.keras.applications.inception_v3 import preprocess_input\n",
        "from tensorflow.keras import regularizers\n",
        "print(tf.__version__)"
      ],
      "execution_count": null,
      "outputs": [
        {
          "output_type": "stream",
          "text": [
            "2.2.0\n"
          ],
          "name": "stdout"
        },
        {
          "output_type": "stream",
          "text": [
            "Using TensorFlow backend.\n"
          ],
          "name": "stderr"
        }
      ]
    },
    {
      "cell_type": "code",
      "metadata": {
        "id": "aosY7LF3k-7z",
        "colab_type": "code",
        "colab": {
          "base_uri": "https://localhost:8080/",
          "height": 54
        },
        "outputId": "4408115e-379e-4093-c73b-b1d2e1d58dbd"
      },
      "source": [
        "# using the only directory we create a split\n",
        "training_directory = \"dataset/Train/\"\n",
        "\n",
        "# mobile net limitation\n",
        "img_size = 299\n",
        "batch_len = 32\n",
        "\n",
        "# adding all these details only for train\n",
        "\n",
        "t_d = ImageDataGenerator(\n",
        "    rescale = 1./255,\n",
        "    rotation_range=30,\n",
        "    width_shift_range = 0.5,\n",
        "    height_shift_range = 0.5,\n",
        "    zoom_range=0.4,\n",
        "    horizontal_flip=True,\n",
        "    fill_mode = 'nearest',\n",
        "    validation_split=0.12) # 15% validation split\n",
        "\"\"\"\n",
        "t_d=ImageDataGenerator(\n",
        "    preprocessing_function=preprocess_input,\n",
        "    rescale = 1./255,\n",
        "    width_shift_range = 0.2,\n",
        "    height_shift_range = 0.2,\n",
        "    zoom_range=0.2,\n",
        "    horizontal_flip=True,\n",
        "    fill_mode = 'nearest',\n",
        "    validation_split=0.12)\n",
        "\"\"\"\n",
        "\n",
        "train_data = t_d.flow_from_directory(\n",
        "    training_directory,\n",
        "    target_size = (img_size,img_size),\n",
        "    batch_size = batch_len ,\n",
        "    class_mode=\"categorical\",\n",
        "    subset = \"training\")\n",
        "\n",
        "val_data = t_d.flow_from_directory(\n",
        "    training_directory,\n",
        "    target_size = (img_size,img_size),\n",
        "    batch_size = batch_len ,\n",
        "    class_mode=\"categorical\",\n",
        "    subset = \"validation\")\n"
      ],
      "execution_count": null,
      "outputs": [
        {
          "output_type": "stream",
          "text": [
            "Found 324 images belonging to 8 classes.\n",
            "Found 40 images belonging to 8 classes.\n"
          ],
          "name": "stdout"
        }
      ]
    },
    {
      "cell_type": "code",
      "metadata": {
        "id": "IWs-fffrlh2I",
        "colab_type": "code",
        "colab": {
          "base_uri": "https://localhost:8080/",
          "height": 54
        },
        "outputId": "07466755-d11d-46d2-b0a3-afc88536adb0"
      },
      "source": [
        "img_1,label_1 = train_data[0]\n",
        "img_1.shape,label_1.shape  #labels are 1 - 0 therefore 32 is the size of batch label\n",
        "label_names = list(train_data.class_indices.keys())\n",
        "print(label_names)\n",
        "len(train_data)"
      ],
      "execution_count": null,
      "outputs": [
        {
          "output_type": "stream",
          "text": [
            "['bharatanatyam', 'kathak', 'kathakali', 'kuchipudi', 'manipuri', 'mohiniyattam', 'odissi', 'sattriya']\n"
          ],
          "name": "stdout"
        },
        {
          "output_type": "execute_result",
          "data": {
            "text/plain": [
              "11"
            ]
          },
          "metadata": {
            "tags": []
          },
          "execution_count": 64
        }
      ]
    },
    {
      "cell_type": "code",
      "metadata": {
        "id": "2OI4PQ5YllGp",
        "colab_type": "code",
        "colab": {
          "base_uri": "https://localhost:8080/",
          "height": 35
        },
        "outputId": "c844abaa-28ea-4021-8c5b-bf64958150a6"
      },
      "source": [
        "! mkdir log_dir"
      ],
      "execution_count": null,
      "outputs": [
        {
          "output_type": "stream",
          "text": [
            "mkdir: cannot create directory ‘log_dir’: File exists\n"
          ],
          "name": "stdout"
        }
      ]
    },
    {
      "cell_type": "code",
      "metadata": {
        "id": "B5v1oIe1lm1D",
        "colab_type": "code",
        "colab": {}
      },
      "source": [
        "initial_rate = 1e-4\n",
        "decay = 0.00025\n",
        "\n",
        "def scheduler(epoch, lr):\n",
        "  if epoch < 10:\n",
        "    return lr\n",
        "  else:\n",
        "    return initial_rate * (1/(1+decay*epoch))\n",
        "\n",
        "class callback_handle(tf.keras.callbacks.Callback):\n",
        "  def on_epoch_end(self,epoch,logs={}):\n",
        "    if(logs.get('val_accuracy') > 0.95):\n",
        "      print(\"Reached 99% validation accuracy\")\n",
        "      self.model.stop_training = True\n",
        "    \n",
        "callbacks_list = [\n",
        "                  tf.keras.callbacks.EarlyStopping(\n",
        "                      monitor = 'val_accuracy',\n",
        "                      patience = 11             #12 back to back epochs constant accuracy (validation)\n",
        "                  ),\n",
        "                  tf.keras.callbacks.ModelCheckpoint(\n",
        "                      filepath = 'dance_form.h5',\n",
        "                      monitor = \"val_loss\",     # based on the validation loss metric we only over-write the h5 file if it improves\n",
        "                      save_best_only = True,\n",
        "                  ),\n",
        "                  tf.keras.callbacks.ReduceLROnPlateau(\n",
        "                      monitor = 'val_loss',\n",
        "                      factor = 0.1,\n",
        "                      patience = 8, # if validation does not improve for 8 epochs then LR falls by 10\n",
        "                   ),\n",
        "                  tf.keras.callbacks.TensorBoard(\n",
        "                      log_dir='log_dir',\n",
        "                      histogram_freq = 1, # progress of activations throughout the training\n",
        "                  ),\n",
        "                  callback_handle(),\n",
        "                  #tf.keras.callbacks.LearningRateScheduler(scheduler)\n",
        "]"
      ],
      "execution_count": null,
      "outputs": []
    },
    {
      "cell_type": "code",
      "metadata": {
        "id": "fr7Nhikxi-W0",
        "colab_type": "code",
        "colab": {
          "base_uri": "https://localhost:8080/",
          "height": 1000
        },
        "outputId": "fd4116bb-d3a5-4fb4-e3b3-e7bc35fe9d5e"
      },
      "source": [
        "new_img_shape = (img_size,img_size,3)\n",
        "new_base_model = tf.keras.applications.InceptionV3(input_shape=new_img_shape,\n",
        "                         include_top=False,\n",
        "                        weights=\"imagenet\")\n",
        "new_base_model.summary()\n"
      ],
      "execution_count": null,
      "outputs": [
        {
          "output_type": "stream",
          "text": [
            "Model: \"inception_v3\"\n",
            "__________________________________________________________________________________________________\n",
            "Layer (type)                    Output Shape         Param #     Connected to                     \n",
            "==================================================================================================\n",
            "input_4 (InputLayer)            [(None, 299, 299, 3) 0                                            \n",
            "__________________________________________________________________________________________________\n",
            "conv2d_94 (Conv2D)              (None, 149, 149, 32) 864         input_4[0][0]                    \n",
            "__________________________________________________________________________________________________\n",
            "batch_normalization_94 (BatchNo (None, 149, 149, 32) 96          conv2d_94[0][0]                  \n",
            "__________________________________________________________________________________________________\n",
            "activation_94 (Activation)      (None, 149, 149, 32) 0           batch_normalization_94[0][0]     \n",
            "__________________________________________________________________________________________________\n",
            "conv2d_95 (Conv2D)              (None, 147, 147, 32) 9216        activation_94[0][0]              \n",
            "__________________________________________________________________________________________________\n",
            "batch_normalization_95 (BatchNo (None, 147, 147, 32) 96          conv2d_95[0][0]                  \n",
            "__________________________________________________________________________________________________\n",
            "activation_95 (Activation)      (None, 147, 147, 32) 0           batch_normalization_95[0][0]     \n",
            "__________________________________________________________________________________________________\n",
            "conv2d_96 (Conv2D)              (None, 147, 147, 64) 18432       activation_95[0][0]              \n",
            "__________________________________________________________________________________________________\n",
            "batch_normalization_96 (BatchNo (None, 147, 147, 64) 192         conv2d_96[0][0]                  \n",
            "__________________________________________________________________________________________________\n",
            "activation_96 (Activation)      (None, 147, 147, 64) 0           batch_normalization_96[0][0]     \n",
            "__________________________________________________________________________________________________\n",
            "max_pooling2d_4 (MaxPooling2D)  (None, 73, 73, 64)   0           activation_96[0][0]              \n",
            "__________________________________________________________________________________________________\n",
            "conv2d_97 (Conv2D)              (None, 73, 73, 80)   5120        max_pooling2d_4[0][0]            \n",
            "__________________________________________________________________________________________________\n",
            "batch_normalization_97 (BatchNo (None, 73, 73, 80)   240         conv2d_97[0][0]                  \n",
            "__________________________________________________________________________________________________\n",
            "activation_97 (Activation)      (None, 73, 73, 80)   0           batch_normalization_97[0][0]     \n",
            "__________________________________________________________________________________________________\n",
            "conv2d_98 (Conv2D)              (None, 71, 71, 192)  138240      activation_97[0][0]              \n",
            "__________________________________________________________________________________________________\n",
            "batch_normalization_98 (BatchNo (None, 71, 71, 192)  576         conv2d_98[0][0]                  \n",
            "__________________________________________________________________________________________________\n",
            "activation_98 (Activation)      (None, 71, 71, 192)  0           batch_normalization_98[0][0]     \n",
            "__________________________________________________________________________________________________\n",
            "max_pooling2d_5 (MaxPooling2D)  (None, 35, 35, 192)  0           activation_98[0][0]              \n",
            "__________________________________________________________________________________________________\n",
            "conv2d_102 (Conv2D)             (None, 35, 35, 64)   12288       max_pooling2d_5[0][0]            \n",
            "__________________________________________________________________________________________________\n",
            "batch_normalization_102 (BatchN (None, 35, 35, 64)   192         conv2d_102[0][0]                 \n",
            "__________________________________________________________________________________________________\n",
            "activation_102 (Activation)     (None, 35, 35, 64)   0           batch_normalization_102[0][0]    \n",
            "__________________________________________________________________________________________________\n",
            "conv2d_100 (Conv2D)             (None, 35, 35, 48)   9216        max_pooling2d_5[0][0]            \n",
            "__________________________________________________________________________________________________\n",
            "conv2d_103 (Conv2D)             (None, 35, 35, 96)   55296       activation_102[0][0]             \n",
            "__________________________________________________________________________________________________\n",
            "batch_normalization_100 (BatchN (None, 35, 35, 48)   144         conv2d_100[0][0]                 \n",
            "__________________________________________________________________________________________________\n",
            "batch_normalization_103 (BatchN (None, 35, 35, 96)   288         conv2d_103[0][0]                 \n",
            "__________________________________________________________________________________________________\n",
            "activation_100 (Activation)     (None, 35, 35, 48)   0           batch_normalization_100[0][0]    \n",
            "__________________________________________________________________________________________________\n",
            "activation_103 (Activation)     (None, 35, 35, 96)   0           batch_normalization_103[0][0]    \n",
            "__________________________________________________________________________________________________\n",
            "average_pooling2d_9 (AveragePoo (None, 35, 35, 192)  0           max_pooling2d_5[0][0]            \n",
            "__________________________________________________________________________________________________\n",
            "conv2d_99 (Conv2D)              (None, 35, 35, 64)   12288       max_pooling2d_5[0][0]            \n",
            "__________________________________________________________________________________________________\n",
            "conv2d_101 (Conv2D)             (None, 35, 35, 64)   76800       activation_100[0][0]             \n",
            "__________________________________________________________________________________________________\n",
            "conv2d_104 (Conv2D)             (None, 35, 35, 96)   82944       activation_103[0][0]             \n",
            "__________________________________________________________________________________________________\n",
            "conv2d_105 (Conv2D)             (None, 35, 35, 32)   6144        average_pooling2d_9[0][0]        \n",
            "__________________________________________________________________________________________________\n",
            "batch_normalization_99 (BatchNo (None, 35, 35, 64)   192         conv2d_99[0][0]                  \n",
            "__________________________________________________________________________________________________\n",
            "batch_normalization_101 (BatchN (None, 35, 35, 64)   192         conv2d_101[0][0]                 \n",
            "__________________________________________________________________________________________________\n",
            "batch_normalization_104 (BatchN (None, 35, 35, 96)   288         conv2d_104[0][0]                 \n",
            "__________________________________________________________________________________________________\n",
            "batch_normalization_105 (BatchN (None, 35, 35, 32)   96          conv2d_105[0][0]                 \n",
            "__________________________________________________________________________________________________\n",
            "activation_99 (Activation)      (None, 35, 35, 64)   0           batch_normalization_99[0][0]     \n",
            "__________________________________________________________________________________________________\n",
            "activation_101 (Activation)     (None, 35, 35, 64)   0           batch_normalization_101[0][0]    \n",
            "__________________________________________________________________________________________________\n",
            "activation_104 (Activation)     (None, 35, 35, 96)   0           batch_normalization_104[0][0]    \n",
            "__________________________________________________________________________________________________\n",
            "activation_105 (Activation)     (None, 35, 35, 32)   0           batch_normalization_105[0][0]    \n",
            "__________________________________________________________________________________________________\n",
            "mixed0 (Concatenate)            (None, 35, 35, 256)  0           activation_99[0][0]              \n",
            "                                                                 activation_101[0][0]             \n",
            "                                                                 activation_104[0][0]             \n",
            "                                                                 activation_105[0][0]             \n",
            "__________________________________________________________________________________________________\n",
            "conv2d_109 (Conv2D)             (None, 35, 35, 64)   16384       mixed0[0][0]                     \n",
            "__________________________________________________________________________________________________\n",
            "batch_normalization_109 (BatchN (None, 35, 35, 64)   192         conv2d_109[0][0]                 \n",
            "__________________________________________________________________________________________________\n",
            "activation_109 (Activation)     (None, 35, 35, 64)   0           batch_normalization_109[0][0]    \n",
            "__________________________________________________________________________________________________\n",
            "conv2d_107 (Conv2D)             (None, 35, 35, 48)   12288       mixed0[0][0]                     \n",
            "__________________________________________________________________________________________________\n",
            "conv2d_110 (Conv2D)             (None, 35, 35, 96)   55296       activation_109[0][0]             \n",
            "__________________________________________________________________________________________________\n",
            "batch_normalization_107 (BatchN (None, 35, 35, 48)   144         conv2d_107[0][0]                 \n",
            "__________________________________________________________________________________________________\n",
            "batch_normalization_110 (BatchN (None, 35, 35, 96)   288         conv2d_110[0][0]                 \n",
            "__________________________________________________________________________________________________\n",
            "activation_107 (Activation)     (None, 35, 35, 48)   0           batch_normalization_107[0][0]    \n",
            "__________________________________________________________________________________________________\n",
            "activation_110 (Activation)     (None, 35, 35, 96)   0           batch_normalization_110[0][0]    \n",
            "__________________________________________________________________________________________________\n",
            "average_pooling2d_10 (AveragePo (None, 35, 35, 256)  0           mixed0[0][0]                     \n",
            "__________________________________________________________________________________________________\n",
            "conv2d_106 (Conv2D)             (None, 35, 35, 64)   16384       mixed0[0][0]                     \n",
            "__________________________________________________________________________________________________\n",
            "conv2d_108 (Conv2D)             (None, 35, 35, 64)   76800       activation_107[0][0]             \n",
            "__________________________________________________________________________________________________\n",
            "conv2d_111 (Conv2D)             (None, 35, 35, 96)   82944       activation_110[0][0]             \n",
            "__________________________________________________________________________________________________\n",
            "conv2d_112 (Conv2D)             (None, 35, 35, 64)   16384       average_pooling2d_10[0][0]       \n",
            "__________________________________________________________________________________________________\n",
            "batch_normalization_106 (BatchN (None, 35, 35, 64)   192         conv2d_106[0][0]                 \n",
            "__________________________________________________________________________________________________\n",
            "batch_normalization_108 (BatchN (None, 35, 35, 64)   192         conv2d_108[0][0]                 \n",
            "__________________________________________________________________________________________________\n",
            "batch_normalization_111 (BatchN (None, 35, 35, 96)   288         conv2d_111[0][0]                 \n",
            "__________________________________________________________________________________________________\n",
            "batch_normalization_112 (BatchN (None, 35, 35, 64)   192         conv2d_112[0][0]                 \n",
            "__________________________________________________________________________________________________\n",
            "activation_106 (Activation)     (None, 35, 35, 64)   0           batch_normalization_106[0][0]    \n",
            "__________________________________________________________________________________________________\n",
            "activation_108 (Activation)     (None, 35, 35, 64)   0           batch_normalization_108[0][0]    \n",
            "__________________________________________________________________________________________________\n",
            "activation_111 (Activation)     (None, 35, 35, 96)   0           batch_normalization_111[0][0]    \n",
            "__________________________________________________________________________________________________\n",
            "activation_112 (Activation)     (None, 35, 35, 64)   0           batch_normalization_112[0][0]    \n",
            "__________________________________________________________________________________________________\n",
            "mixed1 (Concatenate)            (None, 35, 35, 288)  0           activation_106[0][0]             \n",
            "                                                                 activation_108[0][0]             \n",
            "                                                                 activation_111[0][0]             \n",
            "                                                                 activation_112[0][0]             \n",
            "__________________________________________________________________________________________________\n",
            "conv2d_116 (Conv2D)             (None, 35, 35, 64)   18432       mixed1[0][0]                     \n",
            "__________________________________________________________________________________________________\n",
            "batch_normalization_116 (BatchN (None, 35, 35, 64)   192         conv2d_116[0][0]                 \n",
            "__________________________________________________________________________________________________\n",
            "activation_116 (Activation)     (None, 35, 35, 64)   0           batch_normalization_116[0][0]    \n",
            "__________________________________________________________________________________________________\n",
            "conv2d_114 (Conv2D)             (None, 35, 35, 48)   13824       mixed1[0][0]                     \n",
            "__________________________________________________________________________________________________\n",
            "conv2d_117 (Conv2D)             (None, 35, 35, 96)   55296       activation_116[0][0]             \n",
            "__________________________________________________________________________________________________\n",
            "batch_normalization_114 (BatchN (None, 35, 35, 48)   144         conv2d_114[0][0]                 \n",
            "__________________________________________________________________________________________________\n",
            "batch_normalization_117 (BatchN (None, 35, 35, 96)   288         conv2d_117[0][0]                 \n",
            "__________________________________________________________________________________________________\n",
            "activation_114 (Activation)     (None, 35, 35, 48)   0           batch_normalization_114[0][0]    \n",
            "__________________________________________________________________________________________________\n",
            "activation_117 (Activation)     (None, 35, 35, 96)   0           batch_normalization_117[0][0]    \n",
            "__________________________________________________________________________________________________\n",
            "average_pooling2d_11 (AveragePo (None, 35, 35, 288)  0           mixed1[0][0]                     \n",
            "__________________________________________________________________________________________________\n",
            "conv2d_113 (Conv2D)             (None, 35, 35, 64)   18432       mixed1[0][0]                     \n",
            "__________________________________________________________________________________________________\n",
            "conv2d_115 (Conv2D)             (None, 35, 35, 64)   76800       activation_114[0][0]             \n",
            "__________________________________________________________________________________________________\n",
            "conv2d_118 (Conv2D)             (None, 35, 35, 96)   82944       activation_117[0][0]             \n",
            "__________________________________________________________________________________________________\n",
            "conv2d_119 (Conv2D)             (None, 35, 35, 64)   18432       average_pooling2d_11[0][0]       \n",
            "__________________________________________________________________________________________________\n",
            "batch_normalization_113 (BatchN (None, 35, 35, 64)   192         conv2d_113[0][0]                 \n",
            "__________________________________________________________________________________________________\n",
            "batch_normalization_115 (BatchN (None, 35, 35, 64)   192         conv2d_115[0][0]                 \n",
            "__________________________________________________________________________________________________\n",
            "batch_normalization_118 (BatchN (None, 35, 35, 96)   288         conv2d_118[0][0]                 \n",
            "__________________________________________________________________________________________________\n",
            "batch_normalization_119 (BatchN (None, 35, 35, 64)   192         conv2d_119[0][0]                 \n",
            "__________________________________________________________________________________________________\n",
            "activation_113 (Activation)     (None, 35, 35, 64)   0           batch_normalization_113[0][0]    \n",
            "__________________________________________________________________________________________________\n",
            "activation_115 (Activation)     (None, 35, 35, 64)   0           batch_normalization_115[0][0]    \n",
            "__________________________________________________________________________________________________\n",
            "activation_118 (Activation)     (None, 35, 35, 96)   0           batch_normalization_118[0][0]    \n",
            "__________________________________________________________________________________________________\n",
            "activation_119 (Activation)     (None, 35, 35, 64)   0           batch_normalization_119[0][0]    \n",
            "__________________________________________________________________________________________________\n",
            "mixed2 (Concatenate)            (None, 35, 35, 288)  0           activation_113[0][0]             \n",
            "                                                                 activation_115[0][0]             \n",
            "                                                                 activation_118[0][0]             \n",
            "                                                                 activation_119[0][0]             \n",
            "__________________________________________________________________________________________________\n",
            "conv2d_121 (Conv2D)             (None, 35, 35, 64)   18432       mixed2[0][0]                     \n",
            "__________________________________________________________________________________________________\n",
            "batch_normalization_121 (BatchN (None, 35, 35, 64)   192         conv2d_121[0][0]                 \n",
            "__________________________________________________________________________________________________\n",
            "activation_121 (Activation)     (None, 35, 35, 64)   0           batch_normalization_121[0][0]    \n",
            "__________________________________________________________________________________________________\n",
            "conv2d_122 (Conv2D)             (None, 35, 35, 96)   55296       activation_121[0][0]             \n",
            "__________________________________________________________________________________________________\n",
            "batch_normalization_122 (BatchN (None, 35, 35, 96)   288         conv2d_122[0][0]                 \n",
            "__________________________________________________________________________________________________\n",
            "activation_122 (Activation)     (None, 35, 35, 96)   0           batch_normalization_122[0][0]    \n",
            "__________________________________________________________________________________________________\n",
            "conv2d_120 (Conv2D)             (None, 17, 17, 384)  995328      mixed2[0][0]                     \n",
            "__________________________________________________________________________________________________\n",
            "conv2d_123 (Conv2D)             (None, 17, 17, 96)   82944       activation_122[0][0]             \n",
            "__________________________________________________________________________________________________\n",
            "batch_normalization_120 (BatchN (None, 17, 17, 384)  1152        conv2d_120[0][0]                 \n",
            "__________________________________________________________________________________________________\n",
            "batch_normalization_123 (BatchN (None, 17, 17, 96)   288         conv2d_123[0][0]                 \n",
            "__________________________________________________________________________________________________\n",
            "activation_120 (Activation)     (None, 17, 17, 384)  0           batch_normalization_120[0][0]    \n",
            "__________________________________________________________________________________________________\n",
            "activation_123 (Activation)     (None, 17, 17, 96)   0           batch_normalization_123[0][0]    \n",
            "__________________________________________________________________________________________________\n",
            "max_pooling2d_6 (MaxPooling2D)  (None, 17, 17, 288)  0           mixed2[0][0]                     \n",
            "__________________________________________________________________________________________________\n",
            "mixed3 (Concatenate)            (None, 17, 17, 768)  0           activation_120[0][0]             \n",
            "                                                                 activation_123[0][0]             \n",
            "                                                                 max_pooling2d_6[0][0]            \n",
            "__________________________________________________________________________________________________\n",
            "conv2d_128 (Conv2D)             (None, 17, 17, 128)  98304       mixed3[0][0]                     \n",
            "__________________________________________________________________________________________________\n",
            "batch_normalization_128 (BatchN (None, 17, 17, 128)  384         conv2d_128[0][0]                 \n",
            "__________________________________________________________________________________________________\n",
            "activation_128 (Activation)     (None, 17, 17, 128)  0           batch_normalization_128[0][0]    \n",
            "__________________________________________________________________________________________________\n",
            "conv2d_129 (Conv2D)             (None, 17, 17, 128)  114688      activation_128[0][0]             \n",
            "__________________________________________________________________________________________________\n",
            "batch_normalization_129 (BatchN (None, 17, 17, 128)  384         conv2d_129[0][0]                 \n",
            "__________________________________________________________________________________________________\n",
            "activation_129 (Activation)     (None, 17, 17, 128)  0           batch_normalization_129[0][0]    \n",
            "__________________________________________________________________________________________________\n",
            "conv2d_125 (Conv2D)             (None, 17, 17, 128)  98304       mixed3[0][0]                     \n",
            "__________________________________________________________________________________________________\n",
            "conv2d_130 (Conv2D)             (None, 17, 17, 128)  114688      activation_129[0][0]             \n",
            "__________________________________________________________________________________________________\n",
            "batch_normalization_125 (BatchN (None, 17, 17, 128)  384         conv2d_125[0][0]                 \n",
            "__________________________________________________________________________________________________\n",
            "batch_normalization_130 (BatchN (None, 17, 17, 128)  384         conv2d_130[0][0]                 \n",
            "__________________________________________________________________________________________________\n",
            "activation_125 (Activation)     (None, 17, 17, 128)  0           batch_normalization_125[0][0]    \n",
            "__________________________________________________________________________________________________\n",
            "activation_130 (Activation)     (None, 17, 17, 128)  0           batch_normalization_130[0][0]    \n",
            "__________________________________________________________________________________________________\n",
            "conv2d_126 (Conv2D)             (None, 17, 17, 128)  114688      activation_125[0][0]             \n",
            "__________________________________________________________________________________________________\n",
            "conv2d_131 (Conv2D)             (None, 17, 17, 128)  114688      activation_130[0][0]             \n",
            "__________________________________________________________________________________________________\n",
            "batch_normalization_126 (BatchN (None, 17, 17, 128)  384         conv2d_126[0][0]                 \n",
            "__________________________________________________________________________________________________\n",
            "batch_normalization_131 (BatchN (None, 17, 17, 128)  384         conv2d_131[0][0]                 \n",
            "__________________________________________________________________________________________________\n",
            "activation_126 (Activation)     (None, 17, 17, 128)  0           batch_normalization_126[0][0]    \n",
            "__________________________________________________________________________________________________\n",
            "activation_131 (Activation)     (None, 17, 17, 128)  0           batch_normalization_131[0][0]    \n",
            "__________________________________________________________________________________________________\n",
            "average_pooling2d_12 (AveragePo (None, 17, 17, 768)  0           mixed3[0][0]                     \n",
            "__________________________________________________________________________________________________\n",
            "conv2d_124 (Conv2D)             (None, 17, 17, 192)  147456      mixed3[0][0]                     \n",
            "__________________________________________________________________________________________________\n",
            "conv2d_127 (Conv2D)             (None, 17, 17, 192)  172032      activation_126[0][0]             \n",
            "__________________________________________________________________________________________________\n",
            "conv2d_132 (Conv2D)             (None, 17, 17, 192)  172032      activation_131[0][0]             \n",
            "__________________________________________________________________________________________________\n",
            "conv2d_133 (Conv2D)             (None, 17, 17, 192)  147456      average_pooling2d_12[0][0]       \n",
            "__________________________________________________________________________________________________\n",
            "batch_normalization_124 (BatchN (None, 17, 17, 192)  576         conv2d_124[0][0]                 \n",
            "__________________________________________________________________________________________________\n",
            "batch_normalization_127 (BatchN (None, 17, 17, 192)  576         conv2d_127[0][0]                 \n",
            "__________________________________________________________________________________________________\n",
            "batch_normalization_132 (BatchN (None, 17, 17, 192)  576         conv2d_132[0][0]                 \n",
            "__________________________________________________________________________________________________\n",
            "batch_normalization_133 (BatchN (None, 17, 17, 192)  576         conv2d_133[0][0]                 \n",
            "__________________________________________________________________________________________________\n",
            "activation_124 (Activation)     (None, 17, 17, 192)  0           batch_normalization_124[0][0]    \n",
            "__________________________________________________________________________________________________\n",
            "activation_127 (Activation)     (None, 17, 17, 192)  0           batch_normalization_127[0][0]    \n",
            "__________________________________________________________________________________________________\n",
            "activation_132 (Activation)     (None, 17, 17, 192)  0           batch_normalization_132[0][0]    \n",
            "__________________________________________________________________________________________________\n",
            "activation_133 (Activation)     (None, 17, 17, 192)  0           batch_normalization_133[0][0]    \n",
            "__________________________________________________________________________________________________\n",
            "mixed4 (Concatenate)            (None, 17, 17, 768)  0           activation_124[0][0]             \n",
            "                                                                 activation_127[0][0]             \n",
            "                                                                 activation_132[0][0]             \n",
            "                                                                 activation_133[0][0]             \n",
            "__________________________________________________________________________________________________\n",
            "conv2d_138 (Conv2D)             (None, 17, 17, 160)  122880      mixed4[0][0]                     \n",
            "__________________________________________________________________________________________________\n",
            "batch_normalization_138 (BatchN (None, 17, 17, 160)  480         conv2d_138[0][0]                 \n",
            "__________________________________________________________________________________________________\n",
            "activation_138 (Activation)     (None, 17, 17, 160)  0           batch_normalization_138[0][0]    \n",
            "__________________________________________________________________________________________________\n",
            "conv2d_139 (Conv2D)             (None, 17, 17, 160)  179200      activation_138[0][0]             \n",
            "__________________________________________________________________________________________________\n",
            "batch_normalization_139 (BatchN (None, 17, 17, 160)  480         conv2d_139[0][0]                 \n",
            "__________________________________________________________________________________________________\n",
            "activation_139 (Activation)     (None, 17, 17, 160)  0           batch_normalization_139[0][0]    \n",
            "__________________________________________________________________________________________________\n",
            "conv2d_135 (Conv2D)             (None, 17, 17, 160)  122880      mixed4[0][0]                     \n",
            "__________________________________________________________________________________________________\n",
            "conv2d_140 (Conv2D)             (None, 17, 17, 160)  179200      activation_139[0][0]             \n",
            "__________________________________________________________________________________________________\n",
            "batch_normalization_135 (BatchN (None, 17, 17, 160)  480         conv2d_135[0][0]                 \n",
            "__________________________________________________________________________________________________\n",
            "batch_normalization_140 (BatchN (None, 17, 17, 160)  480         conv2d_140[0][0]                 \n",
            "__________________________________________________________________________________________________\n",
            "activation_135 (Activation)     (None, 17, 17, 160)  0           batch_normalization_135[0][0]    \n",
            "__________________________________________________________________________________________________\n",
            "activation_140 (Activation)     (None, 17, 17, 160)  0           batch_normalization_140[0][0]    \n",
            "__________________________________________________________________________________________________\n",
            "conv2d_136 (Conv2D)             (None, 17, 17, 160)  179200      activation_135[0][0]             \n",
            "__________________________________________________________________________________________________\n",
            "conv2d_141 (Conv2D)             (None, 17, 17, 160)  179200      activation_140[0][0]             \n",
            "__________________________________________________________________________________________________\n",
            "batch_normalization_136 (BatchN (None, 17, 17, 160)  480         conv2d_136[0][0]                 \n",
            "__________________________________________________________________________________________________\n",
            "batch_normalization_141 (BatchN (None, 17, 17, 160)  480         conv2d_141[0][0]                 \n",
            "__________________________________________________________________________________________________\n",
            "activation_136 (Activation)     (None, 17, 17, 160)  0           batch_normalization_136[0][0]    \n",
            "__________________________________________________________________________________________________\n",
            "activation_141 (Activation)     (None, 17, 17, 160)  0           batch_normalization_141[0][0]    \n",
            "__________________________________________________________________________________________________\n",
            "average_pooling2d_13 (AveragePo (None, 17, 17, 768)  0           mixed4[0][0]                     \n",
            "__________________________________________________________________________________________________\n",
            "conv2d_134 (Conv2D)             (None, 17, 17, 192)  147456      mixed4[0][0]                     \n",
            "__________________________________________________________________________________________________\n",
            "conv2d_137 (Conv2D)             (None, 17, 17, 192)  215040      activation_136[0][0]             \n",
            "__________________________________________________________________________________________________\n",
            "conv2d_142 (Conv2D)             (None, 17, 17, 192)  215040      activation_141[0][0]             \n",
            "__________________________________________________________________________________________________\n",
            "conv2d_143 (Conv2D)             (None, 17, 17, 192)  147456      average_pooling2d_13[0][0]       \n",
            "__________________________________________________________________________________________________\n",
            "batch_normalization_134 (BatchN (None, 17, 17, 192)  576         conv2d_134[0][0]                 \n",
            "__________________________________________________________________________________________________\n",
            "batch_normalization_137 (BatchN (None, 17, 17, 192)  576         conv2d_137[0][0]                 \n",
            "__________________________________________________________________________________________________\n",
            "batch_normalization_142 (BatchN (None, 17, 17, 192)  576         conv2d_142[0][0]                 \n",
            "__________________________________________________________________________________________________\n",
            "batch_normalization_143 (BatchN (None, 17, 17, 192)  576         conv2d_143[0][0]                 \n",
            "__________________________________________________________________________________________________\n",
            "activation_134 (Activation)     (None, 17, 17, 192)  0           batch_normalization_134[0][0]    \n",
            "__________________________________________________________________________________________________\n",
            "activation_137 (Activation)     (None, 17, 17, 192)  0           batch_normalization_137[0][0]    \n",
            "__________________________________________________________________________________________________\n",
            "activation_142 (Activation)     (None, 17, 17, 192)  0           batch_normalization_142[0][0]    \n",
            "__________________________________________________________________________________________________\n",
            "activation_143 (Activation)     (None, 17, 17, 192)  0           batch_normalization_143[0][0]    \n",
            "__________________________________________________________________________________________________\n",
            "mixed5 (Concatenate)            (None, 17, 17, 768)  0           activation_134[0][0]             \n",
            "                                                                 activation_137[0][0]             \n",
            "                                                                 activation_142[0][0]             \n",
            "                                                                 activation_143[0][0]             \n",
            "__________________________________________________________________________________________________\n",
            "conv2d_148 (Conv2D)             (None, 17, 17, 160)  122880      mixed5[0][0]                     \n",
            "__________________________________________________________________________________________________\n",
            "batch_normalization_148 (BatchN (None, 17, 17, 160)  480         conv2d_148[0][0]                 \n",
            "__________________________________________________________________________________________________\n",
            "activation_148 (Activation)     (None, 17, 17, 160)  0           batch_normalization_148[0][0]    \n",
            "__________________________________________________________________________________________________\n",
            "conv2d_149 (Conv2D)             (None, 17, 17, 160)  179200      activation_148[0][0]             \n",
            "__________________________________________________________________________________________________\n",
            "batch_normalization_149 (BatchN (None, 17, 17, 160)  480         conv2d_149[0][0]                 \n",
            "__________________________________________________________________________________________________\n",
            "activation_149 (Activation)     (None, 17, 17, 160)  0           batch_normalization_149[0][0]    \n",
            "__________________________________________________________________________________________________\n",
            "conv2d_145 (Conv2D)             (None, 17, 17, 160)  122880      mixed5[0][0]                     \n",
            "__________________________________________________________________________________________________\n",
            "conv2d_150 (Conv2D)             (None, 17, 17, 160)  179200      activation_149[0][0]             \n",
            "__________________________________________________________________________________________________\n",
            "batch_normalization_145 (BatchN (None, 17, 17, 160)  480         conv2d_145[0][0]                 \n",
            "__________________________________________________________________________________________________\n",
            "batch_normalization_150 (BatchN (None, 17, 17, 160)  480         conv2d_150[0][0]                 \n",
            "__________________________________________________________________________________________________\n",
            "activation_145 (Activation)     (None, 17, 17, 160)  0           batch_normalization_145[0][0]    \n",
            "__________________________________________________________________________________________________\n",
            "activation_150 (Activation)     (None, 17, 17, 160)  0           batch_normalization_150[0][0]    \n",
            "__________________________________________________________________________________________________\n",
            "conv2d_146 (Conv2D)             (None, 17, 17, 160)  179200      activation_145[0][0]             \n",
            "__________________________________________________________________________________________________\n",
            "conv2d_151 (Conv2D)             (None, 17, 17, 160)  179200      activation_150[0][0]             \n",
            "__________________________________________________________________________________________________\n",
            "batch_normalization_146 (BatchN (None, 17, 17, 160)  480         conv2d_146[0][0]                 \n",
            "__________________________________________________________________________________________________\n",
            "batch_normalization_151 (BatchN (None, 17, 17, 160)  480         conv2d_151[0][0]                 \n",
            "__________________________________________________________________________________________________\n",
            "activation_146 (Activation)     (None, 17, 17, 160)  0           batch_normalization_146[0][0]    \n",
            "__________________________________________________________________________________________________\n",
            "activation_151 (Activation)     (None, 17, 17, 160)  0           batch_normalization_151[0][0]    \n",
            "__________________________________________________________________________________________________\n",
            "average_pooling2d_14 (AveragePo (None, 17, 17, 768)  0           mixed5[0][0]                     \n",
            "__________________________________________________________________________________________________\n",
            "conv2d_144 (Conv2D)             (None, 17, 17, 192)  147456      mixed5[0][0]                     \n",
            "__________________________________________________________________________________________________\n",
            "conv2d_147 (Conv2D)             (None, 17, 17, 192)  215040      activation_146[0][0]             \n",
            "__________________________________________________________________________________________________\n",
            "conv2d_152 (Conv2D)             (None, 17, 17, 192)  215040      activation_151[0][0]             \n",
            "__________________________________________________________________________________________________\n",
            "conv2d_153 (Conv2D)             (None, 17, 17, 192)  147456      average_pooling2d_14[0][0]       \n",
            "__________________________________________________________________________________________________\n",
            "batch_normalization_144 (BatchN (None, 17, 17, 192)  576         conv2d_144[0][0]                 \n",
            "__________________________________________________________________________________________________\n",
            "batch_normalization_147 (BatchN (None, 17, 17, 192)  576         conv2d_147[0][0]                 \n",
            "__________________________________________________________________________________________________\n",
            "batch_normalization_152 (BatchN (None, 17, 17, 192)  576         conv2d_152[0][0]                 \n",
            "__________________________________________________________________________________________________\n",
            "batch_normalization_153 (BatchN (None, 17, 17, 192)  576         conv2d_153[0][0]                 \n",
            "__________________________________________________________________________________________________\n",
            "activation_144 (Activation)     (None, 17, 17, 192)  0           batch_normalization_144[0][0]    \n",
            "__________________________________________________________________________________________________\n",
            "activation_147 (Activation)     (None, 17, 17, 192)  0           batch_normalization_147[0][0]    \n",
            "__________________________________________________________________________________________________\n",
            "activation_152 (Activation)     (None, 17, 17, 192)  0           batch_normalization_152[0][0]    \n",
            "__________________________________________________________________________________________________\n",
            "activation_153 (Activation)     (None, 17, 17, 192)  0           batch_normalization_153[0][0]    \n",
            "__________________________________________________________________________________________________\n",
            "mixed6 (Concatenate)            (None, 17, 17, 768)  0           activation_144[0][0]             \n",
            "                                                                 activation_147[0][0]             \n",
            "                                                                 activation_152[0][0]             \n",
            "                                                                 activation_153[0][0]             \n",
            "__________________________________________________________________________________________________\n",
            "conv2d_158 (Conv2D)             (None, 17, 17, 192)  147456      mixed6[0][0]                     \n",
            "__________________________________________________________________________________________________\n",
            "batch_normalization_158 (BatchN (None, 17, 17, 192)  576         conv2d_158[0][0]                 \n",
            "__________________________________________________________________________________________________\n",
            "activation_158 (Activation)     (None, 17, 17, 192)  0           batch_normalization_158[0][0]    \n",
            "__________________________________________________________________________________________________\n",
            "conv2d_159 (Conv2D)             (None, 17, 17, 192)  258048      activation_158[0][0]             \n",
            "__________________________________________________________________________________________________\n",
            "batch_normalization_159 (BatchN (None, 17, 17, 192)  576         conv2d_159[0][0]                 \n",
            "__________________________________________________________________________________________________\n",
            "activation_159 (Activation)     (None, 17, 17, 192)  0           batch_normalization_159[0][0]    \n",
            "__________________________________________________________________________________________________\n",
            "conv2d_155 (Conv2D)             (None, 17, 17, 192)  147456      mixed6[0][0]                     \n",
            "__________________________________________________________________________________________________\n",
            "conv2d_160 (Conv2D)             (None, 17, 17, 192)  258048      activation_159[0][0]             \n",
            "__________________________________________________________________________________________________\n",
            "batch_normalization_155 (BatchN (None, 17, 17, 192)  576         conv2d_155[0][0]                 \n",
            "__________________________________________________________________________________________________\n",
            "batch_normalization_160 (BatchN (None, 17, 17, 192)  576         conv2d_160[0][0]                 \n",
            "__________________________________________________________________________________________________\n",
            "activation_155 (Activation)     (None, 17, 17, 192)  0           batch_normalization_155[0][0]    \n",
            "__________________________________________________________________________________________________\n",
            "activation_160 (Activation)     (None, 17, 17, 192)  0           batch_normalization_160[0][0]    \n",
            "__________________________________________________________________________________________________\n",
            "conv2d_156 (Conv2D)             (None, 17, 17, 192)  258048      activation_155[0][0]             \n",
            "__________________________________________________________________________________________________\n",
            "conv2d_161 (Conv2D)             (None, 17, 17, 192)  258048      activation_160[0][0]             \n",
            "__________________________________________________________________________________________________\n",
            "batch_normalization_156 (BatchN (None, 17, 17, 192)  576         conv2d_156[0][0]                 \n",
            "__________________________________________________________________________________________________\n",
            "batch_normalization_161 (BatchN (None, 17, 17, 192)  576         conv2d_161[0][0]                 \n",
            "__________________________________________________________________________________________________\n",
            "activation_156 (Activation)     (None, 17, 17, 192)  0           batch_normalization_156[0][0]    \n",
            "__________________________________________________________________________________________________\n",
            "activation_161 (Activation)     (None, 17, 17, 192)  0           batch_normalization_161[0][0]    \n",
            "__________________________________________________________________________________________________\n",
            "average_pooling2d_15 (AveragePo (None, 17, 17, 768)  0           mixed6[0][0]                     \n",
            "__________________________________________________________________________________________________\n",
            "conv2d_154 (Conv2D)             (None, 17, 17, 192)  147456      mixed6[0][0]                     \n",
            "__________________________________________________________________________________________________\n",
            "conv2d_157 (Conv2D)             (None, 17, 17, 192)  258048      activation_156[0][0]             \n",
            "__________________________________________________________________________________________________\n",
            "conv2d_162 (Conv2D)             (None, 17, 17, 192)  258048      activation_161[0][0]             \n",
            "__________________________________________________________________________________________________\n",
            "conv2d_163 (Conv2D)             (None, 17, 17, 192)  147456      average_pooling2d_15[0][0]       \n",
            "__________________________________________________________________________________________________\n",
            "batch_normalization_154 (BatchN (None, 17, 17, 192)  576         conv2d_154[0][0]                 \n",
            "__________________________________________________________________________________________________\n",
            "batch_normalization_157 (BatchN (None, 17, 17, 192)  576         conv2d_157[0][0]                 \n",
            "__________________________________________________________________________________________________\n",
            "batch_normalization_162 (BatchN (None, 17, 17, 192)  576         conv2d_162[0][0]                 \n",
            "__________________________________________________________________________________________________\n",
            "batch_normalization_163 (BatchN (None, 17, 17, 192)  576         conv2d_163[0][0]                 \n",
            "__________________________________________________________________________________________________\n",
            "activation_154 (Activation)     (None, 17, 17, 192)  0           batch_normalization_154[0][0]    \n",
            "__________________________________________________________________________________________________\n",
            "activation_157 (Activation)     (None, 17, 17, 192)  0           batch_normalization_157[0][0]    \n",
            "__________________________________________________________________________________________________\n",
            "activation_162 (Activation)     (None, 17, 17, 192)  0           batch_normalization_162[0][0]    \n",
            "__________________________________________________________________________________________________\n",
            "activation_163 (Activation)     (None, 17, 17, 192)  0           batch_normalization_163[0][0]    \n",
            "__________________________________________________________________________________________________\n",
            "mixed7 (Concatenate)            (None, 17, 17, 768)  0           activation_154[0][0]             \n",
            "                                                                 activation_157[0][0]             \n",
            "                                                                 activation_162[0][0]             \n",
            "                                                                 activation_163[0][0]             \n",
            "__________________________________________________________________________________________________\n",
            "conv2d_166 (Conv2D)             (None, 17, 17, 192)  147456      mixed7[0][0]                     \n",
            "__________________________________________________________________________________________________\n",
            "batch_normalization_166 (BatchN (None, 17, 17, 192)  576         conv2d_166[0][0]                 \n",
            "__________________________________________________________________________________________________\n",
            "activation_166 (Activation)     (None, 17, 17, 192)  0           batch_normalization_166[0][0]    \n",
            "__________________________________________________________________________________________________\n",
            "conv2d_167 (Conv2D)             (None, 17, 17, 192)  258048      activation_166[0][0]             \n",
            "__________________________________________________________________________________________________\n",
            "batch_normalization_167 (BatchN (None, 17, 17, 192)  576         conv2d_167[0][0]                 \n",
            "__________________________________________________________________________________________________\n",
            "activation_167 (Activation)     (None, 17, 17, 192)  0           batch_normalization_167[0][0]    \n",
            "__________________________________________________________________________________________________\n",
            "conv2d_164 (Conv2D)             (None, 17, 17, 192)  147456      mixed7[0][0]                     \n",
            "__________________________________________________________________________________________________\n",
            "conv2d_168 (Conv2D)             (None, 17, 17, 192)  258048      activation_167[0][0]             \n",
            "__________________________________________________________________________________________________\n",
            "batch_normalization_164 (BatchN (None, 17, 17, 192)  576         conv2d_164[0][0]                 \n",
            "__________________________________________________________________________________________________\n",
            "batch_normalization_168 (BatchN (None, 17, 17, 192)  576         conv2d_168[0][0]                 \n",
            "__________________________________________________________________________________________________\n",
            "activation_164 (Activation)     (None, 17, 17, 192)  0           batch_normalization_164[0][0]    \n",
            "__________________________________________________________________________________________________\n",
            "activation_168 (Activation)     (None, 17, 17, 192)  0           batch_normalization_168[0][0]    \n",
            "__________________________________________________________________________________________________\n",
            "conv2d_165 (Conv2D)             (None, 8, 8, 320)    552960      activation_164[0][0]             \n",
            "__________________________________________________________________________________________________\n",
            "conv2d_169 (Conv2D)             (None, 8, 8, 192)    331776      activation_168[0][0]             \n",
            "__________________________________________________________________________________________________\n",
            "batch_normalization_165 (BatchN (None, 8, 8, 320)    960         conv2d_165[0][0]                 \n",
            "__________________________________________________________________________________________________\n",
            "batch_normalization_169 (BatchN (None, 8, 8, 192)    576         conv2d_169[0][0]                 \n",
            "__________________________________________________________________________________________________\n",
            "activation_165 (Activation)     (None, 8, 8, 320)    0           batch_normalization_165[0][0]    \n",
            "__________________________________________________________________________________________________\n",
            "activation_169 (Activation)     (None, 8, 8, 192)    0           batch_normalization_169[0][0]    \n",
            "__________________________________________________________________________________________________\n",
            "max_pooling2d_7 (MaxPooling2D)  (None, 8, 8, 768)    0           mixed7[0][0]                     \n",
            "__________________________________________________________________________________________________\n",
            "mixed8 (Concatenate)            (None, 8, 8, 1280)   0           activation_165[0][0]             \n",
            "                                                                 activation_169[0][0]             \n",
            "                                                                 max_pooling2d_7[0][0]            \n",
            "__________________________________________________________________________________________________\n",
            "conv2d_174 (Conv2D)             (None, 8, 8, 448)    573440      mixed8[0][0]                     \n",
            "__________________________________________________________________________________________________\n",
            "batch_normalization_174 (BatchN (None, 8, 8, 448)    1344        conv2d_174[0][0]                 \n",
            "__________________________________________________________________________________________________\n",
            "activation_174 (Activation)     (None, 8, 8, 448)    0           batch_normalization_174[0][0]    \n",
            "__________________________________________________________________________________________________\n",
            "conv2d_171 (Conv2D)             (None, 8, 8, 384)    491520      mixed8[0][0]                     \n",
            "__________________________________________________________________________________________________\n",
            "conv2d_175 (Conv2D)             (None, 8, 8, 384)    1548288     activation_174[0][0]             \n",
            "__________________________________________________________________________________________________\n",
            "batch_normalization_171 (BatchN (None, 8, 8, 384)    1152        conv2d_171[0][0]                 \n",
            "__________________________________________________________________________________________________\n",
            "batch_normalization_175 (BatchN (None, 8, 8, 384)    1152        conv2d_175[0][0]                 \n",
            "__________________________________________________________________________________________________\n",
            "activation_171 (Activation)     (None, 8, 8, 384)    0           batch_normalization_171[0][0]    \n",
            "__________________________________________________________________________________________________\n",
            "activation_175 (Activation)     (None, 8, 8, 384)    0           batch_normalization_175[0][0]    \n",
            "__________________________________________________________________________________________________\n",
            "conv2d_172 (Conv2D)             (None, 8, 8, 384)    442368      activation_171[0][0]             \n",
            "__________________________________________________________________________________________________\n",
            "conv2d_173 (Conv2D)             (None, 8, 8, 384)    442368      activation_171[0][0]             \n",
            "__________________________________________________________________________________________________\n",
            "conv2d_176 (Conv2D)             (None, 8, 8, 384)    442368      activation_175[0][0]             \n",
            "__________________________________________________________________________________________________\n",
            "conv2d_177 (Conv2D)             (None, 8, 8, 384)    442368      activation_175[0][0]             \n",
            "__________________________________________________________________________________________________\n",
            "average_pooling2d_16 (AveragePo (None, 8, 8, 1280)   0           mixed8[0][0]                     \n",
            "__________________________________________________________________________________________________\n",
            "conv2d_170 (Conv2D)             (None, 8, 8, 320)    409600      mixed8[0][0]                     \n",
            "__________________________________________________________________________________________________\n",
            "batch_normalization_172 (BatchN (None, 8, 8, 384)    1152        conv2d_172[0][0]                 \n",
            "__________________________________________________________________________________________________\n",
            "batch_normalization_173 (BatchN (None, 8, 8, 384)    1152        conv2d_173[0][0]                 \n",
            "__________________________________________________________________________________________________\n",
            "batch_normalization_176 (BatchN (None, 8, 8, 384)    1152        conv2d_176[0][0]                 \n",
            "__________________________________________________________________________________________________\n",
            "batch_normalization_177 (BatchN (None, 8, 8, 384)    1152        conv2d_177[0][0]                 \n",
            "__________________________________________________________________________________________________\n",
            "conv2d_178 (Conv2D)             (None, 8, 8, 192)    245760      average_pooling2d_16[0][0]       \n",
            "__________________________________________________________________________________________________\n",
            "batch_normalization_170 (BatchN (None, 8, 8, 320)    960         conv2d_170[0][0]                 \n",
            "__________________________________________________________________________________________________\n",
            "activation_172 (Activation)     (None, 8, 8, 384)    0           batch_normalization_172[0][0]    \n",
            "__________________________________________________________________________________________________\n",
            "activation_173 (Activation)     (None, 8, 8, 384)    0           batch_normalization_173[0][0]    \n",
            "__________________________________________________________________________________________________\n",
            "activation_176 (Activation)     (None, 8, 8, 384)    0           batch_normalization_176[0][0]    \n",
            "__________________________________________________________________________________________________\n",
            "activation_177 (Activation)     (None, 8, 8, 384)    0           batch_normalization_177[0][0]    \n",
            "__________________________________________________________________________________________________\n",
            "batch_normalization_178 (BatchN (None, 8, 8, 192)    576         conv2d_178[0][0]                 \n",
            "__________________________________________________________________________________________________\n",
            "activation_170 (Activation)     (None, 8, 8, 320)    0           batch_normalization_170[0][0]    \n",
            "__________________________________________________________________________________________________\n",
            "mixed9_0 (Concatenate)          (None, 8, 8, 768)    0           activation_172[0][0]             \n",
            "                                                                 activation_173[0][0]             \n",
            "__________________________________________________________________________________________________\n",
            "concatenate_2 (Concatenate)     (None, 8, 8, 768)    0           activation_176[0][0]             \n",
            "                                                                 activation_177[0][0]             \n",
            "__________________________________________________________________________________________________\n",
            "activation_178 (Activation)     (None, 8, 8, 192)    0           batch_normalization_178[0][0]    \n",
            "__________________________________________________________________________________________________\n",
            "mixed9 (Concatenate)            (None, 8, 8, 2048)   0           activation_170[0][0]             \n",
            "                                                                 mixed9_0[0][0]                   \n",
            "                                                                 concatenate_2[0][0]              \n",
            "                                                                 activation_178[0][0]             \n",
            "__________________________________________________________________________________________________\n",
            "conv2d_183 (Conv2D)             (None, 8, 8, 448)    917504      mixed9[0][0]                     \n",
            "__________________________________________________________________________________________________\n",
            "batch_normalization_183 (BatchN (None, 8, 8, 448)    1344        conv2d_183[0][0]                 \n",
            "__________________________________________________________________________________________________\n",
            "activation_183 (Activation)     (None, 8, 8, 448)    0           batch_normalization_183[0][0]    \n",
            "__________________________________________________________________________________________________\n",
            "conv2d_180 (Conv2D)             (None, 8, 8, 384)    786432      mixed9[0][0]                     \n",
            "__________________________________________________________________________________________________\n",
            "conv2d_184 (Conv2D)             (None, 8, 8, 384)    1548288     activation_183[0][0]             \n",
            "__________________________________________________________________________________________________\n",
            "batch_normalization_180 (BatchN (None, 8, 8, 384)    1152        conv2d_180[0][0]                 \n",
            "__________________________________________________________________________________________________\n",
            "batch_normalization_184 (BatchN (None, 8, 8, 384)    1152        conv2d_184[0][0]                 \n",
            "__________________________________________________________________________________________________\n",
            "activation_180 (Activation)     (None, 8, 8, 384)    0           batch_normalization_180[0][0]    \n",
            "__________________________________________________________________________________________________\n",
            "activation_184 (Activation)     (None, 8, 8, 384)    0           batch_normalization_184[0][0]    \n",
            "__________________________________________________________________________________________________\n",
            "conv2d_181 (Conv2D)             (None, 8, 8, 384)    442368      activation_180[0][0]             \n",
            "__________________________________________________________________________________________________\n",
            "conv2d_182 (Conv2D)             (None, 8, 8, 384)    442368      activation_180[0][0]             \n",
            "__________________________________________________________________________________________________\n",
            "conv2d_185 (Conv2D)             (None, 8, 8, 384)    442368      activation_184[0][0]             \n",
            "__________________________________________________________________________________________________\n",
            "conv2d_186 (Conv2D)             (None, 8, 8, 384)    442368      activation_184[0][0]             \n",
            "__________________________________________________________________________________________________\n",
            "average_pooling2d_17 (AveragePo (None, 8, 8, 2048)   0           mixed9[0][0]                     \n",
            "__________________________________________________________________________________________________\n",
            "conv2d_179 (Conv2D)             (None, 8, 8, 320)    655360      mixed9[0][0]                     \n",
            "__________________________________________________________________________________________________\n",
            "batch_normalization_181 (BatchN (None, 8, 8, 384)    1152        conv2d_181[0][0]                 \n",
            "__________________________________________________________________________________________________\n",
            "batch_normalization_182 (BatchN (None, 8, 8, 384)    1152        conv2d_182[0][0]                 \n",
            "__________________________________________________________________________________________________\n",
            "batch_normalization_185 (BatchN (None, 8, 8, 384)    1152        conv2d_185[0][0]                 \n",
            "__________________________________________________________________________________________________\n",
            "batch_normalization_186 (BatchN (None, 8, 8, 384)    1152        conv2d_186[0][0]                 \n",
            "__________________________________________________________________________________________________\n",
            "conv2d_187 (Conv2D)             (None, 8, 8, 192)    393216      average_pooling2d_17[0][0]       \n",
            "__________________________________________________________________________________________________\n",
            "batch_normalization_179 (BatchN (None, 8, 8, 320)    960         conv2d_179[0][0]                 \n",
            "__________________________________________________________________________________________________\n",
            "activation_181 (Activation)     (None, 8, 8, 384)    0           batch_normalization_181[0][0]    \n",
            "__________________________________________________________________________________________________\n",
            "activation_182 (Activation)     (None, 8, 8, 384)    0           batch_normalization_182[0][0]    \n",
            "__________________________________________________________________________________________________\n",
            "activation_185 (Activation)     (None, 8, 8, 384)    0           batch_normalization_185[0][0]    \n",
            "__________________________________________________________________________________________________\n",
            "activation_186 (Activation)     (None, 8, 8, 384)    0           batch_normalization_186[0][0]    \n",
            "__________________________________________________________________________________________________\n",
            "batch_normalization_187 (BatchN (None, 8, 8, 192)    576         conv2d_187[0][0]                 \n",
            "__________________________________________________________________________________________________\n",
            "activation_179 (Activation)     (None, 8, 8, 320)    0           batch_normalization_179[0][0]    \n",
            "__________________________________________________________________________________________________\n",
            "mixed9_1 (Concatenate)          (None, 8, 8, 768)    0           activation_181[0][0]             \n",
            "                                                                 activation_182[0][0]             \n",
            "__________________________________________________________________________________________________\n",
            "concatenate_3 (Concatenate)     (None, 8, 8, 768)    0           activation_185[0][0]             \n",
            "                                                                 activation_186[0][0]             \n",
            "__________________________________________________________________________________________________\n",
            "activation_187 (Activation)     (None, 8, 8, 192)    0           batch_normalization_187[0][0]    \n",
            "__________________________________________________________________________________________________\n",
            "mixed10 (Concatenate)           (None, 8, 8, 2048)   0           activation_179[0][0]             \n",
            "                                                                 mixed9_1[0][0]                   \n",
            "                                                                 concatenate_3[0][0]              \n",
            "                                                                 activation_187[0][0]             \n",
            "==================================================================================================\n",
            "Total params: 21,802,784\n",
            "Trainable params: 21,768,352\n",
            "Non-trainable params: 34,432\n",
            "__________________________________________________________________________________________________\n"
          ],
          "name": "stdout"
        }
      ]
    },
    {
      "cell_type": "code",
      "metadata": {
        "id": "6KvPTyYclt51",
        "colab_type": "code",
        "colab": {}
      },
      "source": [
        "new_base_model.trainable = True # train only the fully connected layers this prevents heavy gradients to damage already learnt weights"
      ],
      "execution_count": null,
      "outputs": []
    },
    {
      "cell_type": "markdown",
      "metadata": {
        "id": "IZn3ip-xlDro",
        "colab_type": "text"
      },
      "source": [
        "# Classical Head"
      ]
    },
    {
      "cell_type": "code",
      "metadata": {
        "id": "dynPuKSJlukB",
        "colab_type": "code",
        "colab": {}
      },
      "source": [
        "#,kernel_regularizer=regularizers.l2(0.1)\n",
        "model = tf.keras.Sequential([\n",
        "            new_base_model,\n",
        "            #tf.keras.layers.Flatten(),\n",
        "            tf.keras.layers.GlobalAveragePooling2D(),\n",
        "            tf.keras.layers.Dropout(0.6),\n",
        "            tf.keras.layers.Dense(128,activation=\"relu\",kernel_regularizer=regularizers.l2(0.0001)),\n",
        "            tf.keras.layers.Dense(8, activation='softmax')\n",
        "])"
      ],
      "execution_count": null,
      "outputs": []
    },
    {
      "cell_type": "code",
      "metadata": {
        "id": "hmorE0UAl3zM",
        "colab_type": "code",
        "colab": {}
      },
      "source": [
        "model.compile(optimizer=tf.keras.optimizers.SGD(lr=1e-4,momentum = 0.9),  #since multiple classes therefore the loss function is categorical cross entropy\n",
        "              loss='categorical_crossentropy', \n",
        "              metrics=['accuracy'],)"
      ],
      "execution_count": null,
      "outputs": []
    },
    {
      "cell_type": "code",
      "metadata": {
        "id": "DjlHlx26l51N",
        "colab_type": "code",
        "colab": {
          "base_uri": "https://localhost:8080/",
          "height": 345
        },
        "outputId": "38e49ee4-6f05-4f48-a01f-1ed09ff7fe99"
      },
      "source": [
        "model.summary()"
      ],
      "execution_count": null,
      "outputs": [
        {
          "output_type": "stream",
          "text": [
            "Model: \"sequential_23\"\n",
            "_________________________________________________________________\n",
            "Layer (type)                 Output Shape              Param #   \n",
            "=================================================================\n",
            "inception_v3 (Model)         (None, 8, 8, 2048)        21802784  \n",
            "_________________________________________________________________\n",
            "global_average_pooling2d_23  (None, 2048)              0         \n",
            "_________________________________________________________________\n",
            "dropout_25 (Dropout)         (None, 2048)              0         \n",
            "_________________________________________________________________\n",
            "dense_62 (Dense)             (None, 64)                131136    \n",
            "_________________________________________________________________\n",
            "dense_63 (Dense)             (None, 8)                 520       \n",
            "=================================================================\n",
            "Total params: 21,934,440\n",
            "Trainable params: 21,900,008\n",
            "Non-trainable params: 34,432\n",
            "_________________________________________________________________\n"
          ],
          "name": "stdout"
        }
      ]
    },
    {
      "cell_type": "code",
      "metadata": {
        "id": "mOKMXxOISMUQ",
        "colab_type": "code",
        "colab": {
          "base_uri": "https://localhost:8080/",
          "height": 35
        },
        "outputId": "eb3f2e09-0662-4898-a375-e63d844e875a"
      },
      "source": [
        "tf.executing_eagerly()"
      ],
      "execution_count": null,
      "outputs": [
        {
          "output_type": "execute_result",
          "data": {
            "text/plain": [
              "True"
            ]
          },
          "metadata": {
            "tags": []
          },
          "execution_count": 186
        }
      ]
    },
    {
      "cell_type": "code",
      "metadata": {
        "id": "yIKhwBNWl8WP",
        "colab_type": "code",
        "colab": {
          "base_uri": "https://localhost:8080/",
          "height": 817
        },
        "outputId": "0202482b-5eef-4907-c77e-d03e7906fee7"
      },
      "source": [
        "epochs = 100\n",
        "history = model.fit(train_data, \n",
        "                    steps_per_epoch=len(train_data),\n",
        "                    validation_data=val_data,\n",
        "                    validation_steps=len(val_data),\n",
        "                    epochs=epochs,\n",
        "                    callbacks = callbacks_list)"
      ],
      "execution_count": null,
      "outputs": [
        {
          "output_type": "stream",
          "text": [
            "Epoch 1/100\n",
            "11/11 [==============================] - 19s 2s/step - loss: 0.4704 - accuracy: 0.8951 - val_loss: 0.7393 - val_accuracy: 0.8000 - lr: 1.0000e-04\n",
            "Epoch 2/100\n",
            "11/11 [==============================] - 17s 2s/step - loss: 0.4102 - accuracy: 0.9136 - val_loss: 0.8599 - val_accuracy: 0.7000 - lr: 1.0000e-04\n",
            "Epoch 3/100\n",
            "11/11 [==============================] - 18s 2s/step - loss: 0.4975 - accuracy: 0.8981 - val_loss: 0.8647 - val_accuracy: 0.7750 - lr: 1.0000e-04\n",
            "Epoch 4/100\n",
            "11/11 [==============================] - 18s 2s/step - loss: 0.4518 - accuracy: 0.9043 - val_loss: 0.6829 - val_accuracy: 0.8000 - lr: 1.0000e-04\n",
            "Epoch 5/100\n",
            "11/11 [==============================] - 17s 2s/step - loss: 0.4033 - accuracy: 0.9228 - val_loss: 0.9611 - val_accuracy: 0.7250 - lr: 1.0000e-04\n",
            "Epoch 6/100\n",
            "11/11 [==============================] - 18s 2s/step - loss: 0.4590 - accuracy: 0.9012 - val_loss: 0.6233 - val_accuracy: 0.8250 - lr: 1.0000e-04\n",
            "Epoch 7/100\n",
            "11/11 [==============================] - 17s 2s/step - loss: 0.4765 - accuracy: 0.8827 - val_loss: 0.6377 - val_accuracy: 0.8250 - lr: 1.0000e-04\n",
            "Epoch 8/100\n",
            "11/11 [==============================] - 19s 2s/step - loss: 0.3341 - accuracy: 0.9444 - val_loss: 1.0588 - val_accuracy: 0.7000 - lr: 1.0000e-04\n",
            "Epoch 9/100\n",
            "11/11 [==============================] - 17s 2s/step - loss: 0.4093 - accuracy: 0.9136 - val_loss: 0.6941 - val_accuracy: 0.8250 - lr: 1.0000e-04\n",
            "Epoch 10/100\n",
            "11/11 [==============================] - 17s 2s/step - loss: 0.3775 - accuracy: 0.9290 - val_loss: 0.8424 - val_accuracy: 0.7750 - lr: 1.0000e-04\n",
            "Epoch 11/100\n",
            "11/11 [==============================] - 17s 2s/step - loss: 0.4202 - accuracy: 0.9105 - val_loss: 0.6524 - val_accuracy: 0.8500 - lr: 1.0000e-04\n",
            "Epoch 12/100\n",
            "11/11 [==============================] - 18s 2s/step - loss: 0.3805 - accuracy: 0.9228 - val_loss: 0.7965 - val_accuracy: 0.7500 - lr: 1.0000e-04\n",
            "Epoch 13/100\n",
            "11/11 [==============================] - 17s 2s/step - loss: 0.3416 - accuracy: 0.9383 - val_loss: 0.8230 - val_accuracy: 0.7750 - lr: 1.0000e-04\n",
            "Epoch 14/100\n",
            "11/11 [==============================] - 17s 2s/step - loss: 0.4350 - accuracy: 0.8889 - val_loss: 0.6505 - val_accuracy: 0.8000 - lr: 1.0000e-04\n",
            "Epoch 15/100\n",
            "11/11 [==============================] - 17s 2s/step - loss: 0.3458 - accuracy: 0.9290 - val_loss: 0.8325 - val_accuracy: 0.7250 - lr: 1.0000e-05\n",
            "Epoch 16/100\n",
            "11/11 [==============================] - 18s 2s/step - loss: 0.3623 - accuracy: 0.9259 - val_loss: 0.8071 - val_accuracy: 0.8000 - lr: 1.0000e-05\n",
            "Epoch 17/100\n",
            "11/11 [==============================] - 17s 2s/step - loss: 0.3763 - accuracy: 0.9198 - val_loss: 0.9368 - val_accuracy: 0.8000 - lr: 1.0000e-05\n",
            "Epoch 18/100\n",
            "11/11 [==============================] - 17s 2s/step - loss: 0.3094 - accuracy: 0.9444 - val_loss: 0.8079 - val_accuracy: 0.7500 - lr: 1.0000e-05\n",
            "Epoch 19/100\n",
            "11/11 [==============================] - 17s 2s/step - loss: 0.2988 - accuracy: 0.9475 - val_loss: 1.0772 - val_accuracy: 0.6750 - lr: 1.0000e-05\n",
            "Epoch 20/100\n",
            "11/11 [==============================] - 17s 2s/step - loss: 0.3195 - accuracy: 0.9352 - val_loss: 0.8318 - val_accuracy: 0.7500 - lr: 1.0000e-05\n",
            "Epoch 21/100\n",
            "11/11 [==============================] - 17s 2s/step - loss: 0.4048 - accuracy: 0.9012 - val_loss: 0.7881 - val_accuracy: 0.7250 - lr: 1.0000e-05\n",
            "Epoch 22/100\n",
            "11/11 [==============================] - 17s 2s/step - loss: 0.3482 - accuracy: 0.9321 - val_loss: 1.0112 - val_accuracy: 0.7000 - lr: 1.0000e-05\n"
          ],
          "name": "stdout"
        }
      ]
    },
    {
      "cell_type": "code",
      "metadata": {
        "id": "9iTlGk73l_Jj",
        "colab_type": "code",
        "colab": {
          "base_uri": "https://localhost:8080/",
          "height": 281
        },
        "outputId": "2d4ef4ce-bc50-4b99-a582-874c21555483"
      },
      "source": [
        "import matplotlib.pyplot as plt\n",
        "\n",
        "plt.subplot(1, 2, 1)\n",
        "plt.title('Training and Validation accuracy')\n",
        "plt.plot(history.epoch, history.history['accuracy'], label='Training accuracy')\n",
        "plt.plot(history.epoch, history.history['val_accuracy'], label='Validation accuracy')\n",
        "plt.legend()\n",
        "\n",
        "plt.subplot(1, 2, 2)\n",
        "plt.title('Training and Validation loss')\n",
        "plt.plot(history.epoch, history.history['loss'], label='Training loss')\n",
        "plt.plot(history.epoch, history.history['val_loss'], label='Validation loss')\n",
        "plt.legend()\n",
        "\n",
        "plt.show()"
      ],
      "execution_count": null,
      "outputs": [
        {
          "output_type": "display_data",
          "data": {
            "image/png": "[encoded data removed]",
            "text/plain": [
              "<Figure size 432x288 with 2 Axes>"
            ]
          },
          "metadata": {
            "tags": [],
            "needs_background": "light"
          }
        }
      ]
    },
    {
      "cell_type": "code",
      "metadata": {
        "id": "M7LbODwkmDos",
        "colab_type": "code",
        "colab": {
          "base_uri": "https://localhost:8080/",
          "height": 396
        },
        "outputId": "8ac77b24-4f75-44f7-8910-2f7b03352fc2"
      },
      "source": [
        "import matplotlib.pyplot as plt\n",
        "import matplotlib.image as mpimg\n",
        "from keras.preprocessing.image import load_img               # function that helps in image loading\n",
        "from keras.preprocessing.image import img_to_array           # conversion of an image to a numpy array\n",
        "import numpy as np\n",
        "from tensorflow.keras import backend as K\n",
        "import cv2\n",
        "from google.colab.patches import cv2_imshow\n",
        "from tensorflow.keras import Model\n",
        "\n",
        "# displaying the test image\n",
        "test_num = 6\n",
        "path = \"dataset/test/\"+str(test_num)+\".jpg\"\n",
        "img1 = mpimg.imread(path)\n",
        "f , ax1 = plt.subplots(1,1)\n",
        "ax1.imshow(img1)\n",
        "\n",
        "# prediction result\n",
        "image = load_img(path, target_size=(224, 224))\n",
        "image = img_to_array(image)\n",
        "image = image.reshape((1, image.shape[0], image.shape[1], image.shape[2]))\n",
        "image/= 255\n",
        "\n",
        "res = model.predict(image)\n",
        "print(label_names[np.argmax(res)])\n",
        "\n",
        "\"\"\"\n",
        "# HeatMAP\n",
        "class_idx          = np.argmax(res)\n",
        "dance_output       = model.output[:,class_idx]\n",
        "final_conv_layer   = model.get_layer('conv2d_96') #(batch, 8, 8, 192)\n",
        "gradient_model     = Model(inputs  =[model.inputs],\n",
        "                           outputs =[final_conv_layer.output,model.output])\n",
        "\n",
        "with tf.GradientTape() as tape:\n",
        "  inputs = tf.cast(image,tf.float32)\n",
        "  (convOutputs , predictions) = gradient_model(inputs)\n",
        "  loss = predictions[:,class_idx]\n",
        "\n",
        "grads = tape.gradient(loss, convOutputs)\n",
        "castConvOutputs = tf.cast(convOutputs > 0, \"float32\")\n",
        "castGrads = tf.cast(grads > 0, \"float32\")\n",
        "guidedGrads = castConvOutputs * castGrads * grads\n",
        "\n",
        "convOutputs = convOutputs[0]\n",
        "guidedGrads = guidedGrads[0]\n",
        "\n",
        "weights = tf.reduce_mean(guidedGrads, axis=(0, 1))\n",
        "cam = tf.reduce_sum(tf.multiply(weights, convOutputs), axis=-1)\n",
        "\n",
        "(w, h) = (image.shape[2], image.shape[1])\n",
        "heatmap = cv2.resize(cam.numpy(), (w, h))\n",
        "\n",
        "\n",
        "numer = heatmap - np.min(heatmap)\n",
        "denom = (heatmap.max() - heatmap.min()) + 1e-8\n",
        "heatmap = numer / denom\n",
        "heatmap = (heatmap * 255).astype(\"uint8\")\n",
        "\n",
        "heatmap = cv2.applyColorMap(heatmap, cv2.COLORMAP_VIRIDIS)\n",
        "alpha = 0.5\n",
        "#output = cv2.addWeighted(image, alpha, heatmap, 1 - alpha, 0)\n",
        "\n",
        "cv2_imshow(heatmap)\n",
        "\"\"\""
      ],
      "execution_count": null,
      "outputs": [
        {
          "output_type": "stream",
          "text": [
            "kathak\n"
          ],
          "name": "stdout"
        },
        {
          "output_type": "execute_result",
          "data": {
            "application/vnd.google.colaboratory.intrinsic": {
              "type": "string"
            },
            "text/plain": [
              "'\\n# HeatMAP\\nclass_idx          = np.argmax(res)\\ndance_output       = model.output[:,class_idx]\\nfinal_conv_layer   = model.get_layer(\\'conv2d_96\\') #(batch, 8, 8, 192)\\ngradient_model     = Model(inputs  =[model.inputs],\\n                           outputs =[final_conv_layer.output,model.output])\\n\\nwith tf.GradientTape() as tape:\\n  inputs = tf.cast(image,tf.float32)\\n  (convOutputs , predictions) = gradient_model(inputs)\\n  loss = predictions[:,class_idx]\\n\\ngrads = tape.gradient(loss, convOutputs)\\ncastConvOutputs = tf.cast(convOutputs > 0, \"float32\")\\ncastGrads = tf.cast(grads > 0, \"float32\")\\nguidedGrads = castConvOutputs * castGrads * grads\\n\\nconvOutputs = convOutputs[0]\\nguidedGrads = guidedGrads[0]\\n\\nweights = tf.reduce_mean(guidedGrads, axis=(0, 1))\\ncam = tf.reduce_sum(tf.multiply(weights, convOutputs), axis=-1)\\n\\n(w, h) = (image.shape[2], image.shape[1])\\nheatmap = cv2.resize(cam.numpy(), (w, h))\\n\\n\\nnumer = heatmap - np.min(heatmap)\\ndenom = (heatmap.max() - heatmap.min()) + 1e-8\\nheatmap = numer / denom\\nheatmap = (heatmap * 255).astype(\"uint8\")\\n\\nheatmap = cv2.applyColorMap(heatmap, cv2.COLORMAP_VIRIDIS)\\nalpha = 0.5\\n#output = cv2.addWeighted(image, alpha, heatmap, 1 - alpha, 0)\\n\\ncv2_imshow(heatmap)\\n'"
            ]
          },
          "metadata": {
            "tags": []
          },
          "execution_count": 188
        },
        {
          "output_type": "display_data",
          "data": {
            "image/png": "[encoded data removed]",
            "text/plain": [
              "<Figure size 432x288 with 1 Axes>"
            ]
          },
          "metadata": {
            "tags": [],
            "needs_background": "light"
          }
        }
      ]
    },
    {
      "cell_type": "markdown",
      "metadata": {
        "id": "0aZUFal_7sYG",
        "colab_type": "text"
      },
      "source": [
        "# Prediction & GradCam Visualization"
      ]
    },
    {
      "cell_type": "markdown",
      "metadata": {
        "id": "lK49DaIqcFIh",
        "colab_type": "text"
      },
      "source": [
        "# CSV formating of solution"
      ]
    },
    {
      "cell_type": "code",
      "metadata": {
        "id": "D6zRqag6eddm",
        "colab_type": "code",
        "colab": {
          "base_uri": "https://localhost:8080/",
          "height": 272
        },
        "outputId": "6b7b767b-9238-414d-aa99-c4aa025d840d"
      },
      "source": [
        "from os import listdir\n",
        "import pandas as pd\n",
        "result = pd.DataFrame([],columns=['Image','target'])\n",
        "directory = \"dataset/test/\"\n",
        "new_model = tf.keras.models.load_model('dance_form.h5')\n",
        "\n",
        "i = 0\n",
        "for name in listdir(directory):\n",
        "\n",
        "  # load an image from file\n",
        "  filename = directory + '/' + name\n",
        "  image = load_img(filename, target_size=(img_size, img_size))\n",
        "  image = img_to_array(image)\n",
        "  image = image.reshape((1, image.shape[0], image.shape[1], image.shape[2]))\n",
        "  image/= 255\n",
        "  res = new_model.predict(image)\n",
        "  label_res = label_names[np.argmax(res)]\n",
        "  result.loc[i] = [name,label_res]\n",
        "  i+=1\n",
        "\n",
        " \n",
        "print(result)\n",
        "result.to_csv('result.csv',index=False)\n"
      ],
      "execution_count": null,
      "outputs": [
        {
          "output_type": "stream",
          "text": [
            "       Image         target\n",
            "0    232.jpg      kathakali\n",
            "1    429.jpg      kuchipudi\n",
            "2    411.jpg      kuchipudi\n",
            "3     20.jpg         kathak\n",
            "4    175.jpg         kathak\n",
            "..       ...            ...\n",
            "151  421.jpg         odissi\n",
            "152  162.jpg  bharatanatyam\n",
            "153   95.jpg       manipuri\n",
            "154  119.jpg  bharatanatyam\n",
            "155  146.jpg  bharatanatyam\n",
            "\n",
            "[156 rows x 2 columns]\n"
          ],
          "name": "stdout"
        }
      ]
    },
    {
      "cell_type": "code",
      "metadata": {
        "id": "_hQmFOOGfmcJ",
        "colab_type": "code",
        "colab": {
          "base_uri": "https://localhost:8080/",
          "height": 145
        },
        "outputId": "256123cf-84df-42e6-8cc8-0a5a24c365fa"
      },
      "source": [
        "! ls -l\n",
        "! mkdir weights"
      ],
      "execution_count": null,
      "outputs": [
        {
          "output_type": "stream",
          "text": [
            "total 1251140\n",
            "-rw-r--r-- 1 root root   27882564 Jul  4 01:32 0664343c9a8f11ea.zip\n",
            "-rw-r--r-- 1 root root 1253258768 Jul  4 03:31 dance_form.h5\n",
            "drwxr-xr-x 5 root root       4096 Jul  4 01:35 dataset\n",
            "drwxr-xr-x 4 root root       4096 Jul  4 01:36 log_dir\n",
            "-rw-r--r-- 1 root root       2752 Jul  4 03:54 result.csv\n",
            "drwxr-xr-x 1 root root       4096 Jun 26 16:26 sample_data\n"
          ],
          "name": "stdout"
        }
      ]
    },
    {
      "cell_type": "code",
      "metadata": {
        "id": "DvqsjPpalbbT",
        "colab_type": "code",
        "colab": {
          "base_uri": "https://localhost:8080/",
          "height": 17
        },
        "outputId": "8a27f87d-39bb-428f-c45a-41744abdc043"
      },
      "source": [
        "from google.colab import files\n",
        "files.download(\"result.csv\")"
      ],
      "execution_count": null,
      "outputs": [
        {
          "output_type": "display_data",
          "data": {
            "application/javascript": [
              "\n",
              "    async function download(id, filename, size) {\n",
              "      if (!google.colab.kernel.accessAllowed) {\n",
              "        return;\n",
              "      }\n",
              "      const div = document.createElement('div');\n",
              "      const label = document.createElement('label');\n",
              "      label.textContent = `Downloading \"${filename}\": `;\n",
              "      div.appendChild(label);\n",
              "      const progress = document.createElement('progress');\n",
              "      progress.max = size;\n",
              "      div.appendChild(progress);\n",
              "      document.body.appendChild(div);\n",
              "\n",
              "      const buffers = [];\n",
              "      let downloaded = 0;\n",
              "\n",
              "      const channel = await google.colab.kernel.comms.open(id);\n",
              "      // Send a message to notify the kernel that we're ready.\n",
              "      channel.send({})\n",
              "\n",
              "      for await (const message of channel.messages) {\n",
              "        // Send a message to notify the kernel that we're ready.\n",
              "        channel.send({})\n",
              "        if (message.buffers) {\n",
              "          for (const buffer of message.buffers) {\n",
              "            buffers.push(buffer);\n",
              "            downloaded += buffer.byteLength;\n",
              "            progress.value = downloaded;\n",
              "          }\n",
              "        }\n",
              "      }\n",
              "      const blob = new Blob(buffers, {type: 'application/binary'});\n",
              "      const a = document.createElement('a');\n",
              "      a.href = window.URL.createObjectURL(blob);\n",
              "      a.download = filename;\n",
              "      div.appendChild(a);\n",
              "      a.click();\n",
              "      div.remove();\n",
              "    }\n",
              "  "
            ],
            "text/plain": [
              "<IPython.core.display.Javascript object>"
            ]
          },
          "metadata": {
            "tags": []
          }
        },
        {
          "output_type": "display_data",
          "data": {
            "application/javascript": [
              "download(\"download_56668b08-cd00-4029-9d99-214886b7fe22\", \"result.csv\", 2736)"
            ],
            "text/plain": [
              "<IPython.core.display.Javascript object>"
            ]
          },
          "metadata": {
            "tags": []
          }
        }
      ]
    },
    {
      "cell_type": "code",
      "metadata": {
        "id": "hJX6n9wAjgrp",
        "colab_type": "code",
        "colab": {}
      },
      "source": [
        "cp dance_form.h5 weights/"
      ],
      "execution_count": null,
      "outputs": []
    },
    {
      "cell_type": "code",
      "metadata": {
        "id": "Ia4fafUAjlch",
        "colab_type": "code",
        "colab": {
          "base_uri": "https://localhost:8080/",
          "height": 54
        },
        "outputId": "0cab0199-2a51-4d08-bbca-afc94dcac3ce"
      },
      "source": [
        "! zip -r wei.zip weights/"
      ],
      "execution_count": null,
      "outputs": [
        {
          "output_type": "stream",
          "text": [
            "  adding: weights/ (stored 0%)\n",
            "  adding: weights/dance_form.h5 (deflated 7%)\n"
          ],
          "name": "stdout"
        }
      ]
    },
    {
      "cell_type": "code",
      "metadata": {
        "id": "6f7ZsdGSlmkw",
        "colab_type": "code",
        "colab": {
          "base_uri": "https://localhost:8080/",
          "height": 128
        },
        "outputId": "c275e0a1-b0d9-41fc-f46a-37ff00f2df89"
      },
      "source": [
        "from google.colab import drive\n",
        "drive.mount('/content/gdrive')"
      ],
      "execution_count": null,
      "outputs": [
        {
          "output_type": "stream",
          "text": [
            "Go to this URL in a browser: https://accounts.google.com/o/oauth2/auth?client_id=947318989803-6bn6qk8qdgf4n4g3pfee6491hc0brc4i.apps.googleusercontent.com&redirect_uri=urn%3aietf%3awg%3aoauth%3a2.0%3aoob&response_type=code&scope=email%20https%3a%2f%2fwww.googleapis.com%2fauth%2fdocs.test%20https%3a%2f%2fwww.googleapis.com%2fauth%2fdrive%20https%3a%2f%2fwww.googleapis.com%2fauth%2fdrive.photos.readonly%20https%3a%2f%2fwww.googleapis.com%2fauth%2fpeopleapi.readonly\n",
            "\n",
            "Enter your authorization code:\n",
            "··········\n",
            "Mounted at /content/gdrive\n"
          ],
          "name": "stdout"
        }
      ]
    },
    {
      "cell_type": "code",
      "metadata": {
        "id": "M_-Eq_LH_1If",
        "colab_type": "code",
        "colab": {
          "base_uri": "https://localhost:8080/",
          "height": 1000
        },
        "outputId": "b9e4abfa-eb32-435b-8248-9741e3fc23b2"
      },
      "source": [
        "! ls gdrive/'My Drive'\n",
        "! cp dance_form.h5 gdrive/'My Drive'"
      ],
      "execution_count": null,
      "outputs": [
        {
          "output_type": "stream",
          "text": [
            " 1704.04861.pdf\n",
            "'2017batch-SDP-Assignment (1).gsheet'\n",
            "'2017batch-SDP-Assignment (1).xlsx'\n",
            "'2017batch-SDP-Assignment (2).gsheet'\n",
            " 2017batch-SDP-Assignment.gsheet\n",
            " 2017batch-SDP-Assignment.xlsx\n",
            "'2017BCS0065 (1).zip'\n",
            "'2017BCS0065 (2).zip'\n",
            "'2017BCS0065 (3).zip'\n",
            "'2017BCS0065 (4).zip'\n",
            " 2017BCS0065.zip\n",
            " 20200204-110231-227666-0.avi\n",
            " 20200204-111133-076640-0.avi\n",
            "'8086_Chap 3_1.gslides'\n",
            "'8086_Chap 3_1.pptx'\n",
            "'Amita Kapoor - Hands-On Artificial Intelligence for IoT_ Expert machine learning and deep learning techniques for developing smarter IoT systems (2019, Packt Publishing).pdf'\n",
            " ASS.tar.gz\n",
            "'autonomous track.docx'\n",
            "'autonomous track.gdoc'\n",
            "'BTech_hon_1 (1).pptx'\n",
            " BTech_hon_1.gslides\n",
            " BTech_hon_1.pptx\n",
            " BTech_hon_2.gslides\n",
            " BTech_hon_2.pptx\n",
            "'Campus Visit.xlsx'\n",
            " Classroom\n",
            "'Class work problems-1(MA-IV).pdf'\n",
            " close_flight_single_coconut.avi\n",
            "'coco_layers (4).pdf'\n",
            " code2.py\n",
            "'Colab Notebooks'\n",
            " drone_doc.pages\n",
            "'Duane P. Schultz, Sydney Ellen Schultz-Theories of Personality-Wadsworth Publishing (2004).pdf'\n",
            "'Electronic Communication Network  Access request - POI.pdf'\n",
            "'Ex 11-13.gdoc'\n",
            "'Ex 11-13.pdf'\n",
            " flight1.avi\n",
            " flight2.avi\n",
            " flight3.avi\n",
            " flight_4_single.avi\n",
            "'Getting started.pdf'\n",
            "'hos 3.jpg'\n",
            "'hos room.jpg'\n",
            "'iiitk upcoming hostel.jpg'\n",
            " Image_annotation.ipynb\n",
            " IMG-20181215-WA0012.jpg\n",
            "'IntegrationTesting&SoftwareRe-engineering.pdf'\n",
            " ISC201-Science-Syllabus.pdf\n",
            " kottayan.mp4\n",
            "'New Doc 2019-03-02 08.53.51_1.pdf'\n",
            "'Project report'\n",
            "'Sem 1.pdf'\n",
            " source_comp\n",
            "'Unit-I - partB.pdf'\n",
            "'Ur Buddy-1.apk'\n",
            "'vedant_cv (1).pdf'\n",
            " vid1234ab.h264\n",
            " vid1234.h264\n",
            " vid1_480x640x60fps.h264\n",
            " vid2_480x640x90fps.h264\n",
            " vid3_1080x1920x30fps.h264\n",
            " vid4_1080x1920x60fps.h264\n",
            "'Working capital session unit 5 (1).gdoc'\n",
            "'Working capital session unit 5 (1).pdf'\n"
          ],
          "name": "stdout"
        }
      ]
    },
    {
      "cell_type": "markdown",
      "metadata": {
        "id": "rrrB5kSD-j34",
        "colab_type": "text"
      },
      "source": [
        "# Model Load & Predict"
      ]
    },
    {
      "cell_type": "code",
      "metadata": {
        "id": "-q_VnuPAUvKu",
        "colab_type": "code",
        "colab": {}
      },
      "source": [
        "# upload the dance_form.h5 file attached with this zip folder\n",
        "from google.colab import files\n",
        "files.upload()"
      ],
      "execution_count": null,
      "outputs": []
    },
    {
      "cell_type": "code",
      "metadata": {
        "id": "sJVZr3gQi5e6",
        "colab_type": "code",
        "colab": {}
      },
      "source": [
        "new_model = tf.keras.models.load_model('dance_form.h5')\n",
        "new_model.summary()\n",
        "\n",
        "# Path for the training image\n",
        "path = \"\"\n",
        "\n",
        "# prediction result\n",
        "image = load_img(path, target_size=(img_size, img_size))\n",
        "image = img_to_array(image)\n",
        "image = image.reshape((1, image.shape[0], image.shape[1], image.shape[2]))\n",
        "image/= 255\n",
        "\n",
        "res = model.predict(image)\n",
        "print(label_names[np.argmax(res)])\n"
      ],
      "execution_count": null,
      "outputs": []
    }
  ]
}